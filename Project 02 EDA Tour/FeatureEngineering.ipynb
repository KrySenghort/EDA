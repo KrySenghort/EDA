{
 "cells": [
  {
   "attachments": {},
   "cell_type": "markdown",
   "metadata": {},
   "source": [
    "# <font color = green|><b><p style = 'text-align:center'>Feature Engineering"
   ]
  },
  {
   "attachments": {},
   "cell_type": "markdown",
   "metadata": {},
   "source": [
    "### <Font color = red><b>1.) Import library and load file"
   ]
  },
  {
   "cell_type": "code",
   "execution_count": 1,
   "metadata": {},
   "outputs": [],
   "source": [
    "import pandas as pd\n",
    "import numpy as np\n",
    "import matplotlib.pyplot as plt"
   ]
  },
  {
   "cell_type": "code",
   "execution_count": 2,
   "metadata": {},
   "outputs": [
    {
     "data": {
      "text/html": [
       "<div>\n",
       "<style scoped>\n",
       "    .dataframe tbody tr th:only-of-type {\n",
       "        vertical-align: middle;\n",
       "    }\n",
       "\n",
       "    .dataframe tbody tr th {\n",
       "        vertical-align: top;\n",
       "    }\n",
       "\n",
       "    .dataframe thead th {\n",
       "        text-align: right;\n",
       "    }\n",
       "</style>\n",
       "<table border=\"1\" class=\"dataframe\">\n",
       "  <thead>\n",
       "    <tr style=\"text-align: right;\">\n",
       "      <th></th>\n",
       "      <th>Index</th>\n",
       "      <th>Tour_Name</th>\n",
       "      <th>Tour_Type</th>\n",
       "      <th>Number_of_Reviewer</th>\n",
       "      <th>Rating</th>\n",
       "      <th>Duration</th>\n",
       "      <th>Price</th>\n",
       "      <th>Highlight</th>\n",
       "      <th>Location</th>\n",
       "    </tr>\n",
       "  </thead>\n",
       "  <tbody>\n",
       "    <tr>\n",
       "      <th>0</th>\n",
       "      <td>1.0</td>\n",
       "      <td>Phare: The Cambodian Circus Show in Siem Reap</td>\n",
       "      <td>Comedy Shows</td>\n",
       "      <td>992.0</td>\n",
       "      <td>5.0</td>\n",
       "      <td>1.0</td>\n",
       "      <td>18.0</td>\n",
       "      <td>Siem Reap's most original, authentic live perf...</td>\n",
       "      <td>Asia, Cambodia, Siem Reap Province, Siem Reap,...</td>\n",
       "    </tr>\n",
       "    <tr>\n",
       "      <th>1</th>\n",
       "      <td>2.0</td>\n",
       "      <td>Khmer Gourmet Cooking Class</td>\n",
       "      <td>Cooking Classes</td>\n",
       "      <td>55.0</td>\n",
       "      <td>5.0</td>\n",
       "      <td>3.0</td>\n",
       "      <td>21.5</td>\n",
       "      <td>In-person guide</td>\n",
       "      <td>Asia, Cambodia, Siem Reap Province, Siem Reap,...</td>\n",
       "    </tr>\n",
       "    <tr>\n",
       "      <th>2</th>\n",
       "      <td>3.0</td>\n",
       "      <td>Koh Ker &amp; Beng Mealea Full-Day Join-in Tour</td>\n",
       "      <td>Full-day Tours</td>\n",
       "      <td>288.0</td>\n",
       "      <td>5.0</td>\n",
       "      <td>10.0</td>\n",
       "      <td>50.0</td>\n",
       "      <td>Cold towels &amp; Bottled water, Professional Engl...</td>\n",
       "      <td>Asia, Cambodia, Siem Reap Province, Siem Reap,...</td>\n",
       "    </tr>\n",
       "    <tr>\n",
       "      <th>3</th>\n",
       "      <td>4.0</td>\n",
       "      <td>Kampot Day Tour \"Bokor National Park\"</td>\n",
       "      <td>Adventure Tours</td>\n",
       "      <td>18.0</td>\n",
       "      <td>4.5</td>\n",
       "      <td>5.0</td>\n",
       "      <td>36.0</td>\n",
       "      <td>Transportation: Tuk Tuk, English speaking driv...</td>\n",
       "      <td>Asia, Cambodia, Kampot Province, Kampot, Thing...</td>\n",
       "    </tr>\n",
       "    <tr>\n",
       "      <th>4</th>\n",
       "      <td>5.0</td>\n",
       "      <td>Bike the Siem Reap Countryside with Local Expert</td>\n",
       "      <td>Adventure Tours</td>\n",
       "      <td>308.0</td>\n",
       "      <td>5.0</td>\n",
       "      <td>5.0</td>\n",
       "      <td>35.0</td>\n",
       "      <td>Hotel pick up &amp; Drop Off, Professional local E...</td>\n",
       "      <td>Asia, Cambodia, Siem Reap Province, Siem Reap,...</td>\n",
       "    </tr>\n",
       "  </tbody>\n",
       "</table>\n",
       "</div>"
      ],
      "text/plain": [
       "   Index                                         Tour_Name        Tour_Type  \\\n",
       "0    1.0     Phare: The Cambodian Circus Show in Siem Reap     Comedy Shows   \n",
       "1    2.0                       Khmer Gourmet Cooking Class  Cooking Classes   \n",
       "2    3.0       Koh Ker & Beng Mealea Full-Day Join-in Tour   Full-day Tours   \n",
       "3    4.0             Kampot Day Tour \"Bokor National Park\"  Adventure Tours   \n",
       "4    5.0  Bike the Siem Reap Countryside with Local Expert  Adventure Tours   \n",
       "\n",
       "   Number_of_Reviewer  Rating  Duration  Price  \\\n",
       "0               992.0     5.0       1.0   18.0   \n",
       "1                55.0     5.0       3.0   21.5   \n",
       "2               288.0     5.0      10.0   50.0   \n",
       "3                18.0     4.5       5.0   36.0   \n",
       "4               308.0     5.0       5.0   35.0   \n",
       "\n",
       "                                           Highlight  \\\n",
       "0  Siem Reap's most original, authentic live perf...   \n",
       "1                                    In-person guide   \n",
       "2  Cold towels & Bottled water, Professional Engl...   \n",
       "3  Transportation: Tuk Tuk, English speaking driv...   \n",
       "4  Hotel pick up & Drop Off, Professional local E...   \n",
       "\n",
       "                                            Location  \n",
       "0  Asia, Cambodia, Siem Reap Province, Siem Reap,...  \n",
       "1  Asia, Cambodia, Siem Reap Province, Siem Reap,...  \n",
       "2  Asia, Cambodia, Siem Reap Province, Siem Reap,...  \n",
       "3  Asia, Cambodia, Kampot Province, Kampot, Thing...  \n",
       "4  Asia, Cambodia, Siem Reap Province, Siem Reap,...  "
      ]
     },
     "execution_count": 2,
     "metadata": {},
     "output_type": "execute_result"
    }
   ],
   "source": [
    "df = pd.read_csv('Impute_data.csv')\n",
    "df.head(5)"
   ]
  },
  {
   "cell_type": "code",
   "execution_count": 3,
   "metadata": {},
   "outputs": [
    {
     "data": {
      "text/html": [
       "<div>\n",
       "<style scoped>\n",
       "    .dataframe tbody tr th:only-of-type {\n",
       "        vertical-align: middle;\n",
       "    }\n",
       "\n",
       "    .dataframe tbody tr th {\n",
       "        vertical-align: top;\n",
       "    }\n",
       "\n",
       "    .dataframe thead th {\n",
       "        text-align: right;\n",
       "    }\n",
       "</style>\n",
       "<table border=\"1\" class=\"dataframe\">\n",
       "  <thead>\n",
       "    <tr style=\"text-align: right;\">\n",
       "      <th></th>\n",
       "      <th>Index</th>\n",
       "      <th>Tour_Name</th>\n",
       "      <th>Tour_Type</th>\n",
       "      <th>Number_of_Reviewer</th>\n",
       "      <th>Rating</th>\n",
       "      <th>Duration</th>\n",
       "      <th>Price</th>\n",
       "      <th>Highlight</th>\n",
       "      <th>Location</th>\n",
       "    </tr>\n",
       "  </thead>\n",
       "  <tbody>\n",
       "    <tr>\n",
       "      <th>2584</th>\n",
       "      <td>4766.0</td>\n",
       "      <td>1-Day Amazing Angkor Wat Small Circuit &amp; Sunrise</td>\n",
       "      <td>National Holidays</td>\n",
       "      <td>9.6</td>\n",
       "      <td>4.8</td>\n",
       "      <td>7.0</td>\n",
       "      <td>37.00</td>\n",
       "      <td>English Speaking Guide with licensed., Pick up...</td>\n",
       "      <td>Krong Siem Reap, Cambodia</td>\n",
       "    </tr>\n",
       "    <tr>\n",
       "      <th>2585</th>\n",
       "      <td>4774.0</td>\n",
       "      <td>Phnom Penh Full Day Private Tours</td>\n",
       "      <td>Walking Tours</td>\n",
       "      <td>5.8</td>\n",
       "      <td>4.8</td>\n",
       "      <td>7.0</td>\n",
       "      <td>20.00</td>\n",
       "      <td>All transfer by private comfortable air-con Ve...</td>\n",
       "      <td>Phnom Penh, Cambodia</td>\n",
       "    </tr>\n",
       "    <tr>\n",
       "      <th>2586</th>\n",
       "      <td>4779.0</td>\n",
       "      <td>Phnom Kulen Tour,Waterfalls,1000 Linga River,R...</td>\n",
       "      <td>Bus Tours</td>\n",
       "      <td>7.4</td>\n",
       "      <td>5.0</td>\n",
       "      <td>7.0</td>\n",
       "      <td>75.00</td>\n",
       "      <td>Experienced English speaking tour guide with l...</td>\n",
       "      <td>Krong Siem Reap, Cambodia</td>\n",
       "    </tr>\n",
       "    <tr>\n",
       "      <th>2587</th>\n",
       "      <td>4782.0</td>\n",
       "      <td>Special Angkor Sunrise &amp; Sunset Tour</td>\n",
       "      <td>Full-day Tours</td>\n",
       "      <td>7.4</td>\n",
       "      <td>5.0</td>\n",
       "      <td>9.0</td>\n",
       "      <td>61.54</td>\n",
       "      <td>English speaking tourist guide, Hotel pick up ...</td>\n",
       "      <td>Siem Reap, Cambodia</td>\n",
       "    </tr>\n",
       "    <tr>\n",
       "      <th>2588</th>\n",
       "      <td>4784.0</td>\n",
       "      <td>Amazing Koh Ker And Beng Mealea Tour</td>\n",
       "      <td>Full-day Tours</td>\n",
       "      <td>5.0</td>\n",
       "      <td>5.0</td>\n",
       "      <td>9.0</td>\n",
       "      <td>90.00</td>\n",
       "      <td>English speaking tourist guide, Private transp...</td>\n",
       "      <td>Siem Reap, Cambodia</td>\n",
       "    </tr>\n",
       "  </tbody>\n",
       "</table>\n",
       "</div>"
      ],
      "text/plain": [
       "       Index                                          Tour_Name  \\\n",
       "2584  4766.0   1-Day Amazing Angkor Wat Small Circuit & Sunrise   \n",
       "2585  4774.0                  Phnom Penh Full Day Private Tours   \n",
       "2586  4779.0  Phnom Kulen Tour,Waterfalls,1000 Linga River,R...   \n",
       "2587  4782.0               Special Angkor Sunrise & Sunset Tour   \n",
       "2588  4784.0               Amazing Koh Ker And Beng Mealea Tour   \n",
       "\n",
       "              Tour_Type  Number_of_Reviewer  Rating  Duration  Price  \\\n",
       "2584  National Holidays                 9.6     4.8       7.0  37.00   \n",
       "2585      Walking Tours                 5.8     4.8       7.0  20.00   \n",
       "2586          Bus Tours                 7.4     5.0       7.0  75.00   \n",
       "2587     Full-day Tours                 7.4     5.0       9.0  61.54   \n",
       "2588     Full-day Tours                 5.0     5.0       9.0  90.00   \n",
       "\n",
       "                                              Highlight  \\\n",
       "2584  English Speaking Guide with licensed., Pick up...   \n",
       "2585  All transfer by private comfortable air-con Ve...   \n",
       "2586  Experienced English speaking tour guide with l...   \n",
       "2587  English speaking tourist guide, Hotel pick up ...   \n",
       "2588  English speaking tourist guide, Private transp...   \n",
       "\n",
       "                       Location  \n",
       "2584  Krong Siem Reap, Cambodia  \n",
       "2585       Phnom Penh, Cambodia  \n",
       "2586  Krong Siem Reap, Cambodia  \n",
       "2587        Siem Reap, Cambodia  \n",
       "2588        Siem Reap, Cambodia  "
      ]
     },
     "execution_count": 3,
     "metadata": {},
     "output_type": "execute_result"
    }
   ],
   "source": [
    "df.tail(5)"
   ]
  },
  {
   "cell_type": "code",
   "execution_count": 4,
   "metadata": {},
   "outputs": [
    {
     "data": {
      "text/plain": [
       "(2589, 9)"
      ]
     },
     "execution_count": 4,
     "metadata": {},
     "output_type": "execute_result"
    }
   ],
   "source": [
    "df.shape"
   ]
  },
  {
   "attachments": {},
   "cell_type": "markdown",
   "metadata": {},
   "source": [
    "### <font color = red><b>2.) Separate train set and test set"
   ]
  },
  {
   "cell_type": "code",
   "execution_count": 5,
   "metadata": {},
   "outputs": [],
   "source": [
    "df = df.sample(frac=1,random_state=2)\n",
    "\n",
    "train_df = df[:1589]\n",
    "train_df = train_df.reset_index(drop=True)\n",
    "\n",
    "test_df = df[1589:]\n",
    "test_df = test_df.reset_index(drop=True)"
   ]
  },
  {
   "cell_type": "code",
   "execution_count": 6,
   "metadata": {},
   "outputs": [
    {
     "data": {
      "text/html": [
       "<div>\n",
       "<style scoped>\n",
       "    .dataframe tbody tr th:only-of-type {\n",
       "        vertical-align: middle;\n",
       "    }\n",
       "\n",
       "    .dataframe tbody tr th {\n",
       "        vertical-align: top;\n",
       "    }\n",
       "\n",
       "    .dataframe thead th {\n",
       "        text-align: right;\n",
       "    }\n",
       "</style>\n",
       "<table border=\"1\" class=\"dataframe\">\n",
       "  <thead>\n",
       "    <tr style=\"text-align: right;\">\n",
       "      <th></th>\n",
       "      <th>Index</th>\n",
       "      <th>Tour_Name</th>\n",
       "      <th>Tour_Type</th>\n",
       "      <th>Number_of_Reviewer</th>\n",
       "      <th>Rating</th>\n",
       "      <th>Duration</th>\n",
       "      <th>Price</th>\n",
       "      <th>Highlight</th>\n",
       "      <th>Location</th>\n",
       "    </tr>\n",
       "  </thead>\n",
       "  <tbody>\n",
       "    <tr>\n",
       "      <th>0</th>\n",
       "      <td>1580.0</td>\n",
       "      <td>Be Your Own Driver: Motorbike Rental in Siem Reap</td>\n",
       "      <td>Full-day Tours</td>\n",
       "      <td>1.6</td>\n",
       "      <td>3.9</td>\n",
       "      <td>7.0</td>\n",
       "      <td>10.26</td>\n",
       "      <td>Motorbike Rental</td>\n",
       "      <td>Asia, Cambodia, Siem Reap Province, Siem Reap,...</td>\n",
       "    </tr>\n",
       "    <tr>\n",
       "      <th>1</th>\n",
       "      <td>1193.0</td>\n",
       "      <td>Angkor Wat Temples Tour by Local Expert Guide</td>\n",
       "      <td>Full-day Tours</td>\n",
       "      <td>1.0</td>\n",
       "      <td>4.2</td>\n",
       "      <td>7.0</td>\n",
       "      <td>25.00</td>\n",
       "      <td>Local Expert Expert Guide, Tuk Tuk ro Mini Van...</td>\n",
       "      <td>Asia, Cambodia, Siem Reap Province, Siem Reap,...</td>\n",
       "    </tr>\n",
       "    <tr>\n",
       "      <th>2</th>\n",
       "      <td>2087.0</td>\n",
       "      <td>Countryside Exploration by Jeep-Full Day</td>\n",
       "      <td>Full-day Tours</td>\n",
       "      <td>1.8</td>\n",
       "      <td>3.4</td>\n",
       "      <td>7.0</td>\n",
       "      <td>66.67</td>\n",
       "      <td>pick up &amp; drop off, Experienced guide, Drinkin...</td>\n",
       "      <td>Asia, Cambodia, Siem Reap Province, Siem Reap,...</td>\n",
       "    </tr>\n",
       "    <tr>\n",
       "      <th>3</th>\n",
       "      <td>90.0</td>\n",
       "      <td>Taxi Phnom Penh Private</td>\n",
       "      <td>Bus Tours</td>\n",
       "      <td>15.0</td>\n",
       "      <td>5.0</td>\n",
       "      <td>8.0</td>\n",
       "      <td>16.99</td>\n",
       "      <td>English speaking driver, Air-conditioned vehic...</td>\n",
       "      <td>Asia, Cambodia, Phnom Penh, Things to Do in Ph...</td>\n",
       "    </tr>\n",
       "    <tr>\n",
       "      <th>4</th>\n",
       "      <td>667.0</td>\n",
       "      <td>Best of Siem Reap 5 Days Private Tours</td>\n",
       "      <td>Luxury Car Tours</td>\n",
       "      <td>4.0</td>\n",
       "      <td>5.0</td>\n",
       "      <td>72.0</td>\n",
       "      <td>357.00</td>\n",
       "      <td>Breakfast, Breakfast, Breakfast, Breakfast, Ac...</td>\n",
       "      <td>Asia, Cambodia, Siem Reap Province, Siem Reap,...</td>\n",
       "    </tr>\n",
       "    <tr>\n",
       "      <th>...</th>\n",
       "      <td>...</td>\n",
       "      <td>...</td>\n",
       "      <td>...</td>\n",
       "      <td>...</td>\n",
       "      <td>...</td>\n",
       "      <td>...</td>\n",
       "      <td>...</td>\n",
       "      <td>...</td>\n",
       "      <td>...</td>\n",
       "    </tr>\n",
       "    <tr>\n",
       "      <th>1584</th>\n",
       "      <td>2083.0</td>\n",
       "      <td>2 Days Tour of Siem Reap Temple-Small Group</td>\n",
       "      <td>Bus Tours</td>\n",
       "      <td>1.8</td>\n",
       "      <td>3.4</td>\n",
       "      <td>48.0</td>\n",
       "      <td>54.00</td>\n",
       "      <td>Hotel Pick up and Drop off, English Speaking T...</td>\n",
       "      <td>Asia, Cambodia, Siem Reap Province, Siem Reap,...</td>\n",
       "    </tr>\n",
       "    <tr>\n",
       "      <th>1585</th>\n",
       "      <td>1004.0</td>\n",
       "      <td>Afternoon Tour to Ta Prohm Bayon Angkor Wat wi...</td>\n",
       "      <td>Full-day Tours</td>\n",
       "      <td>1.0</td>\n",
       "      <td>5.0</td>\n",
       "      <td>7.0</td>\n",
       "      <td>40.00</td>\n",
       "      <td>Air-Conditioned Car, Drinking Water and Cold T...</td>\n",
       "      <td>Asia, Cambodia, Siem Reap Province, Siem Reap,...</td>\n",
       "    </tr>\n",
       "    <tr>\n",
       "      <th>1586</th>\n",
       "      <td>1721.0</td>\n",
       "      <td>One Day Joining Trip-Angkor Wat, Angkor Thom &amp;...</td>\n",
       "      <td>Bus Tours</td>\n",
       "      <td>2.2</td>\n",
       "      <td>3.5</td>\n",
       "      <td>7.0</td>\n",
       "      <td>15.00</td>\n",
       "      <td>English Speaking Tour Guide, Transportation, W...</td>\n",
       "      <td>Asia, Cambodia, Siem Reap Province, Siem Reap,...</td>\n",
       "    </tr>\n",
       "    <tr>\n",
       "      <th>1587</th>\n",
       "      <td>1152.0</td>\n",
       "      <td>Full-Day Kampot &amp; Kep with a local Tuk Tuk Tours</td>\n",
       "      <td>Full-day Tours</td>\n",
       "      <td>2.0</td>\n",
       "      <td>3.5</td>\n",
       "      <td>7.0</td>\n",
       "      <td>64.62</td>\n",
       "      <td>Hotel pick up &amp; drop off, Cold bottle of water...</td>\n",
       "      <td>Asia, Cambodia, Kampot Province, Kampot, Thing...</td>\n",
       "    </tr>\n",
       "    <tr>\n",
       "      <th>1588</th>\n",
       "      <td>1722.0</td>\n",
       "      <td>Full-day private car charter from Siem Reap ci...</td>\n",
       "      <td>Full-day Tours</td>\n",
       "      <td>2.2</td>\n",
       "      <td>3.5</td>\n",
       "      <td>1.0</td>\n",
       "      <td>16.00</td>\n",
       "      <td>Air-conditioned vehicle, Fuel surcharge, Parki...</td>\n",
       "      <td>Asia, Cambodia, Siem Reap Province, Siem Reap,...</td>\n",
       "    </tr>\n",
       "  </tbody>\n",
       "</table>\n",
       "<p>1589 rows × 9 columns</p>\n",
       "</div>"
      ],
      "text/plain": [
       "       Index                                          Tour_Name  \\\n",
       "0     1580.0  Be Your Own Driver: Motorbike Rental in Siem Reap   \n",
       "1     1193.0      Angkor Wat Temples Tour by Local Expert Guide   \n",
       "2     2087.0           Countryside Exploration by Jeep-Full Day   \n",
       "3       90.0                            Taxi Phnom Penh Private   \n",
       "4      667.0             Best of Siem Reap 5 Days Private Tours   \n",
       "...      ...                                                ...   \n",
       "1584  2083.0        2 Days Tour of Siem Reap Temple-Small Group   \n",
       "1585  1004.0  Afternoon Tour to Ta Prohm Bayon Angkor Wat wi...   \n",
       "1586  1721.0  One Day Joining Trip-Angkor Wat, Angkor Thom &...   \n",
       "1587  1152.0   Full-Day Kampot & Kep with a local Tuk Tuk Tours   \n",
       "1588  1722.0  Full-day private car charter from Siem Reap ci...   \n",
       "\n",
       "             Tour_Type  Number_of_Reviewer  Rating  Duration   Price  \\\n",
       "0       Full-day Tours                 1.6     3.9       7.0   10.26   \n",
       "1       Full-day Tours                 1.0     4.2       7.0   25.00   \n",
       "2       Full-day Tours                 1.8     3.4       7.0   66.67   \n",
       "3            Bus Tours                15.0     5.0       8.0   16.99   \n",
       "4     Luxury Car Tours                 4.0     5.0      72.0  357.00   \n",
       "...                ...                 ...     ...       ...     ...   \n",
       "1584         Bus Tours                 1.8     3.4      48.0   54.00   \n",
       "1585    Full-day Tours                 1.0     5.0       7.0   40.00   \n",
       "1586         Bus Tours                 2.2     3.5       7.0   15.00   \n",
       "1587    Full-day Tours                 2.0     3.5       7.0   64.62   \n",
       "1588    Full-day Tours                 2.2     3.5       1.0   16.00   \n",
       "\n",
       "                                              Highlight  \\\n",
       "0                                      Motorbike Rental   \n",
       "1     Local Expert Expert Guide, Tuk Tuk ro Mini Van...   \n",
       "2     pick up & drop off, Experienced guide, Drinkin...   \n",
       "3     English speaking driver, Air-conditioned vehic...   \n",
       "4     Breakfast, Breakfast, Breakfast, Breakfast, Ac...   \n",
       "...                                                 ...   \n",
       "1584  Hotel Pick up and Drop off, English Speaking T...   \n",
       "1585  Air-Conditioned Car, Drinking Water and Cold T...   \n",
       "1586  English Speaking Tour Guide, Transportation, W...   \n",
       "1587  Hotel pick up & drop off, Cold bottle of water...   \n",
       "1588  Air-conditioned vehicle, Fuel surcharge, Parki...   \n",
       "\n",
       "                                               Location  \n",
       "0     Asia, Cambodia, Siem Reap Province, Siem Reap,...  \n",
       "1     Asia, Cambodia, Siem Reap Province, Siem Reap,...  \n",
       "2     Asia, Cambodia, Siem Reap Province, Siem Reap,...  \n",
       "3     Asia, Cambodia, Phnom Penh, Things to Do in Ph...  \n",
       "4     Asia, Cambodia, Siem Reap Province, Siem Reap,...  \n",
       "...                                                 ...  \n",
       "1584  Asia, Cambodia, Siem Reap Province, Siem Reap,...  \n",
       "1585  Asia, Cambodia, Siem Reap Province, Siem Reap,...  \n",
       "1586  Asia, Cambodia, Siem Reap Province, Siem Reap,...  \n",
       "1587  Asia, Cambodia, Kampot Province, Kampot, Thing...  \n",
       "1588  Asia, Cambodia, Siem Reap Province, Siem Reap,...  \n",
       "\n",
       "[1589 rows x 9 columns]"
      ]
     },
     "execution_count": 6,
     "metadata": {},
     "output_type": "execute_result"
    }
   ],
   "source": [
    "train_df"
   ]
  },
  {
   "cell_type": "code",
   "execution_count": 7,
   "metadata": {},
   "outputs": [
    {
     "data": {
      "text/html": [
       "<div>\n",
       "<style scoped>\n",
       "    .dataframe tbody tr th:only-of-type {\n",
       "        vertical-align: middle;\n",
       "    }\n",
       "\n",
       "    .dataframe tbody tr th {\n",
       "        vertical-align: top;\n",
       "    }\n",
       "\n",
       "    .dataframe thead th {\n",
       "        text-align: right;\n",
       "    }\n",
       "</style>\n",
       "<table border=\"1\" class=\"dataframe\">\n",
       "  <thead>\n",
       "    <tr style=\"text-align: right;\">\n",
       "      <th></th>\n",
       "      <th>Index</th>\n",
       "      <th>Tour_Name</th>\n",
       "      <th>Tour_Type</th>\n",
       "      <th>Number_of_Reviewer</th>\n",
       "      <th>Rating</th>\n",
       "      <th>Duration</th>\n",
       "      <th>Price</th>\n",
       "      <th>Highlight</th>\n",
       "      <th>Location</th>\n",
       "    </tr>\n",
       "  </thead>\n",
       "  <tbody>\n",
       "    <tr>\n",
       "      <th>0</th>\n",
       "      <td>516.0</td>\n",
       "      <td>Tuol Sleng Genocide Museum (S-21) and Choeung ...</td>\n",
       "      <td>Bus Tours</td>\n",
       "      <td>17.0</td>\n",
       "      <td>5.0</td>\n",
       "      <td>4.0</td>\n",
       "      <td>15.00</td>\n",
       "      <td>A professional English speaking tour guide and...</td>\n",
       "      <td>Asia, Cambodia, Phnom Penh, Things to Do in Ph...</td>\n",
       "    </tr>\n",
       "    <tr>\n",
       "      <th>1</th>\n",
       "      <td>1713.0</td>\n",
       "      <td>Battambang Sunset Private Tour</td>\n",
       "      <td>Full-day Tours</td>\n",
       "      <td>1.6</td>\n",
       "      <td>3.9</td>\n",
       "      <td>7.0</td>\n",
       "      <td>51.29</td>\n",
       "      <td>guided Driver and TUk TUk, Cold bottles of wat...</td>\n",
       "      <td>Asia, Cambodia, Battambang Province, Battamban...</td>\n",
       "    </tr>\n",
       "    <tr>\n",
       "      <th>2</th>\n",
       "      <td>4030.0</td>\n",
       "      <td>Private Guided Tour in Angkor</td>\n",
       "      <td>Bus Tours</td>\n",
       "      <td>7.0</td>\n",
       "      <td>5.0</td>\n",
       "      <td>8.0</td>\n",
       "      <td>78.00</td>\n",
       "      <td>The experienced French-speaking guide, A comfo...</td>\n",
       "      <td>Siem Reap, Cambodia</td>\n",
       "    </tr>\n",
       "    <tr>\n",
       "      <th>3</th>\n",
       "      <td>150.0</td>\n",
       "      <td>Private Koh Ker &amp; Beng Mealea Full-Day Tour (b...</td>\n",
       "      <td>Full-day Tours</td>\n",
       "      <td>12.0</td>\n",
       "      <td>5.0</td>\n",
       "      <td>10.0</td>\n",
       "      <td>119.00</td>\n",
       "      <td>Cold towels &amp; Bottled water, Hotel pickup (8:3...</td>\n",
       "      <td>Asia, Cambodia, Siem Reap Province, Siem Reap,...</td>\n",
       "    </tr>\n",
       "    <tr>\n",
       "      <th>4</th>\n",
       "      <td>2245.0</td>\n",
       "      <td>Explore Angkor Wat With TukTuk Tour</td>\n",
       "      <td>Full-day Tours</td>\n",
       "      <td>1.4</td>\n",
       "      <td>2.7</td>\n",
       "      <td>10.0</td>\n",
       "      <td>25.00</td>\n",
       "      <td>Cold water and towel, English speaking driver,...</td>\n",
       "      <td>Asia, Cambodia, Siem Reap Province, Siem Reap,...</td>\n",
       "    </tr>\n",
       "    <tr>\n",
       "      <th>...</th>\n",
       "      <td>...</td>\n",
       "      <td>...</td>\n",
       "      <td>...</td>\n",
       "      <td>...</td>\n",
       "      <td>...</td>\n",
       "      <td>...</td>\n",
       "      <td>...</td>\n",
       "      <td>...</td>\n",
       "      <td>...</td>\n",
       "    </tr>\n",
       "    <tr>\n",
       "      <th>995</th>\n",
       "      <td>4040.0</td>\n",
       "      <td>2 day tour at Angkor Wat With License English ...</td>\n",
       "      <td>Multi-day Tours</td>\n",
       "      <td>1.0</td>\n",
       "      <td>5.0</td>\n",
       "      <td>48.0</td>\n",
       "      <td>70.00</td>\n",
       "      <td>Hotel pickup and drop-off, English Speaking To...</td>\n",
       "      <td>Krong Siem Reap, Cambodia</td>\n",
       "    </tr>\n",
       "    <tr>\n",
       "      <th>996</th>\n",
       "      <td>2595.0</td>\n",
       "      <td>Full-Day Tour to Bakong Temples, Beng Mealea a...</td>\n",
       "      <td>Full-day Tours</td>\n",
       "      <td>1.0</td>\n",
       "      <td>5.0</td>\n",
       "      <td>8.0</td>\n",
       "      <td>90.00</td>\n",
       "      <td>Pick up time 7:30am and Drop off around 6pm, E...</td>\n",
       "      <td>Siem Reap, Cambodia</td>\n",
       "    </tr>\n",
       "    <tr>\n",
       "      <th>997</th>\n",
       "      <td>1720.0</td>\n",
       "      <td>Rolous Group and Floating Village Tour</td>\n",
       "      <td>Bus Tours</td>\n",
       "      <td>2.2</td>\n",
       "      <td>3.5</td>\n",
       "      <td>7.0</td>\n",
       "      <td>39.75</td>\n",
       "      <td>English speaking guide, Refreshment drink &amp; co...</td>\n",
       "      <td>Asia, Cambodia, Siem Reap Province, Siem Reap,...</td>\n",
       "    </tr>\n",
       "    <tr>\n",
       "      <th>998</th>\n",
       "      <td>4285.0</td>\n",
       "      <td>1-Day Wonder Angkor Wat Small Circuit Tour wit...</td>\n",
       "      <td>Bus Tours</td>\n",
       "      <td>5.2</td>\n",
       "      <td>4.7</td>\n",
       "      <td>7.0</td>\n",
       "      <td>35.00</td>\n",
       "      <td>English Speaking Guide with licensed, One Way ...</td>\n",
       "      <td>Krong Siem Reap, Cambodia</td>\n",
       "    </tr>\n",
       "    <tr>\n",
       "      <th>999</th>\n",
       "      <td>4695.0</td>\n",
       "      <td>2-Day Angkor Wat Small, Big Circuit &amp; Banteay ...</td>\n",
       "      <td>Mountain Bike Tours</td>\n",
       "      <td>6.2</td>\n",
       "      <td>4.5</td>\n",
       "      <td>48.0</td>\n",
       "      <td>90.00</td>\n",
       "      <td>English Speaking Guide with licensed., Pick up...</td>\n",
       "      <td>Krong Siem Reap, Cambodia</td>\n",
       "    </tr>\n",
       "  </tbody>\n",
       "</table>\n",
       "<p>1000 rows × 9 columns</p>\n",
       "</div>"
      ],
      "text/plain": [
       "      Index                                          Tour_Name  \\\n",
       "0     516.0  Tuol Sleng Genocide Museum (S-21) and Choeung ...   \n",
       "1    1713.0                     Battambang Sunset Private Tour   \n",
       "2    4030.0                      Private Guided Tour in Angkor   \n",
       "3     150.0  Private Koh Ker & Beng Mealea Full-Day Tour (b...   \n",
       "4    2245.0                Explore Angkor Wat With TukTuk Tour   \n",
       "..      ...                                                ...   \n",
       "995  4040.0  2 day tour at Angkor Wat With License English ...   \n",
       "996  2595.0  Full-Day Tour to Bakong Temples, Beng Mealea a...   \n",
       "997  1720.0             Rolous Group and Floating Village Tour   \n",
       "998  4285.0  1-Day Wonder Angkor Wat Small Circuit Tour wit...   \n",
       "999  4695.0  2-Day Angkor Wat Small, Big Circuit & Banteay ...   \n",
       "\n",
       "               Tour_Type  Number_of_Reviewer  Rating  Duration   Price  \\\n",
       "0              Bus Tours                17.0     5.0       4.0   15.00   \n",
       "1         Full-day Tours                 1.6     3.9       7.0   51.29   \n",
       "2              Bus Tours                 7.0     5.0       8.0   78.00   \n",
       "3         Full-day Tours                12.0     5.0      10.0  119.00   \n",
       "4         Full-day Tours                 1.4     2.7      10.0   25.00   \n",
       "..                   ...                 ...     ...       ...     ...   \n",
       "995      Multi-day Tours                 1.0     5.0      48.0   70.00   \n",
       "996       Full-day Tours                 1.0     5.0       8.0   90.00   \n",
       "997            Bus Tours                 2.2     3.5       7.0   39.75   \n",
       "998            Bus Tours                 5.2     4.7       7.0   35.00   \n",
       "999  Mountain Bike Tours                 6.2     4.5      48.0   90.00   \n",
       "\n",
       "                                             Highlight  \\\n",
       "0    A professional English speaking tour guide and...   \n",
       "1    guided Driver and TUk TUk, Cold bottles of wat...   \n",
       "2    The experienced French-speaking guide, A comfo...   \n",
       "3    Cold towels & Bottled water, Hotel pickup (8:3...   \n",
       "4    Cold water and towel, English speaking driver,...   \n",
       "..                                                 ...   \n",
       "995  Hotel pickup and drop-off, English Speaking To...   \n",
       "996  Pick up time 7:30am and Drop off around 6pm, E...   \n",
       "997  English speaking guide, Refreshment drink & co...   \n",
       "998  English Speaking Guide with licensed, One Way ...   \n",
       "999  English Speaking Guide with licensed., Pick up...   \n",
       "\n",
       "                                              Location  \n",
       "0    Asia, Cambodia, Phnom Penh, Things to Do in Ph...  \n",
       "1    Asia, Cambodia, Battambang Province, Battamban...  \n",
       "2                                  Siem Reap, Cambodia  \n",
       "3    Asia, Cambodia, Siem Reap Province, Siem Reap,...  \n",
       "4    Asia, Cambodia, Siem Reap Province, Siem Reap,...  \n",
       "..                                                 ...  \n",
       "995                          Krong Siem Reap, Cambodia  \n",
       "996                                Siem Reap, Cambodia  \n",
       "997  Asia, Cambodia, Siem Reap Province, Siem Reap,...  \n",
       "998                          Krong Siem Reap, Cambodia  \n",
       "999                          Krong Siem Reap, Cambodia  \n",
       "\n",
       "[1000 rows x 9 columns]"
      ]
     },
     "execution_count": 7,
     "metadata": {},
     "output_type": "execute_result"
    }
   ],
   "source": [
    "test_df"
   ]
  },
  {
   "attachments": {},
   "cell_type": "markdown",
   "metadata": {},
   "source": [
    "### <font color = red><b>3.) Get observed outputs for train set and test set"
   ]
  },
  {
   "attachments": {},
   "cell_type": "markdown",
   "metadata": {},
   "source": [
    "<font color = green|>a.) Rating Observation and error baseline model using average Rating"
   ]
  },
  {
   "cell_type": "code",
   "execution_count": 8,
   "metadata": {},
   "outputs": [
    {
     "data": {
      "text/plain": [
       "((1589,), (1000,))"
      ]
     },
     "execution_count": 8,
     "metadata": {},
     "output_type": "execute_result"
    }
   ],
   "source": [
    "y_train1 = train_df['Rating'].to_numpy()\n",
    "y_test1 = test_df['Rating'].to_numpy()\n",
    "y_train1.shape, y_test1.shape"
   ]
  },
  {
   "cell_type": "code",
   "execution_count": 9,
   "metadata": {},
   "outputs": [
    {
     "data": {
      "text/plain": [
       "0.6088129641283826"
      ]
     },
     "execution_count": 9,
     "metadata": {},
     "output_type": "execute_result"
    }
   ],
   "source": [
    "from sklearn.metrics import mean_absolute_error\n",
    "\n",
    "average_median_house_value = train_df['Rating'].mean()\n",
    "baseline_model_test_predictions = [average_median_house_value] * len(test_df)\n",
    "mean_absolute_error(baseline_model_test_predictions,y_test1)"
   ]
  },
  {
   "attachments": {},
   "cell_type": "markdown",
   "metadata": {},
   "source": [
    "<font color = green|>b.) Number of Reviewer Observation and error baseline model using average Number_of_Reviewer"
   ]
  },
  {
   "cell_type": "code",
   "execution_count": 10,
   "metadata": {},
   "outputs": [
    {
     "data": {
      "text/plain": [
       "((1589,), (1000,))"
      ]
     },
     "execution_count": 10,
     "metadata": {},
     "output_type": "execute_result"
    }
   ],
   "source": [
    "y_train2 = train_df['Number_of_Reviewer'].to_numpy()\n",
    "y_test2 = test_df['Number_of_Reviewer'].to_numpy()\n",
    "y_train2.shape, y_test2.shape"
   ]
  },
  {
   "cell_type": "code",
   "execution_count": 11,
   "metadata": {},
   "outputs": [
    {
     "data": {
      "text/plain": [
       "13.940813845185652"
      ]
     },
     "execution_count": 11,
     "metadata": {},
     "output_type": "execute_result"
    }
   ],
   "source": [
    "average_median_house_value = train_df['Number_of_Reviewer'].mean()\n",
    "baseline_model_test_predictions = [average_median_house_value] * len(test_df)\n",
    "mean_absolute_error(baseline_model_test_predictions,y_test2)"
   ]
  },
  {
   "attachments": {},
   "cell_type": "markdown",
   "metadata": {},
   "source": [
    "<font color = green|>c.) Price Observation and error of baseline model using average price in train set"
   ]
  },
  {
   "cell_type": "code",
   "execution_count": 12,
   "metadata": {},
   "outputs": [
    {
     "data": {
      "text/plain": [
       "((1589,), (1000,))"
      ]
     },
     "execution_count": 12,
     "metadata": {},
     "output_type": "execute_result"
    }
   ],
   "source": [
    "y_train3 = train_df['Price'].to_numpy()\n",
    "y_test3 = test_df['Price'].to_numpy()\n",
    "y_train3.shape, y_test3.shape"
   ]
  },
  {
   "cell_type": "code",
   "execution_count": 13,
   "metadata": {},
   "outputs": [
    {
     "data": {
      "text/plain": [
       "111.50901139332913"
      ]
     },
     "execution_count": 13,
     "metadata": {},
     "output_type": "execute_result"
    }
   ],
   "source": [
    "average_median_house_value = train_df['Price'].mean()\n",
    "baseline_model_test_predictions = [average_median_house_value] * len(test_df)\n",
    "mean_absolute_error(baseline_model_test_predictions,y_test3)"
   ]
  },
  {
   "attachments": {},
   "cell_type": "markdown",
   "metadata": {},
   "source": [
    "<font color = green|>d.) Duration Observation and error of baseline model using average duration in train set"
   ]
  },
  {
   "cell_type": "code",
   "execution_count": 14,
   "metadata": {},
   "outputs": [
    {
     "data": {
      "text/plain": [
       "((1589,), (1000,))"
      ]
     },
     "execution_count": 14,
     "metadata": {},
     "output_type": "execute_result"
    }
   ],
   "source": [
    "y_train4 = train_df['Duration'].to_numpy()\n",
    "y_test4 = test_df['Duration'].to_numpy()\n",
    "y_train4.shape, y_test4.shape"
   ]
  },
  {
   "cell_type": "code",
   "execution_count": 15,
   "metadata": {},
   "outputs": [
    {
     "data": {
      "text/plain": [
       "19.124383889238512"
      ]
     },
     "execution_count": 15,
     "metadata": {},
     "output_type": "execute_result"
    }
   ],
   "source": [
    "average_median_house_value = train_df['Duration'].mean()\n",
    "baseline_model_test_predictions = [average_median_house_value] * len(test_df)\n",
    "mean_absolute_error(baseline_model_test_predictions,y_test4)"
   ]
  },
  {
   "attachments": {},
   "cell_type": "markdown",
   "metadata": {},
   "source": [
    "According to above computation, we observe that the most error baeline model is feature \"Price\"."
   ]
  },
  {
   "attachments": {},
   "cell_type": "markdown",
   "metadata": {},
   "source": [
    "The feature whose the most error baseline model is the feature that has the largest difference between the actual values and the predicted values. This feature is likely to be the most important feature for the model to learn.\n",
    "\n",
    "If we can identify the feature whose the most error baseline model, we can focus on improving the model's performance on this feature. This can be done by:\n",
    "\n",
    "* Collecting more data for this feature.\n",
    "* Improving the way the feature is represented in the model.\n",
    "* Using a different model that is better suited for this feature.\n",
    "\n",
    "By improving the model's performance on the feature whose the most error baseline model, we can improve the overall performance of the model.\n",
    "\n",
    "Here are some examples of how we can improve the model's performance on the feature whose the most error baseline model:\n",
    "\n",
    "* If the feature is categorical, we can use a one-hot encoding to represent the feature.\n",
    "* If the feature is continuous, we can use a normalization technique to scale the feature.\n",
    "* If the feature is noisy, we can use a denoising technique to clean the feature.\n",
    "* If the feature is missing, we can use a imputation technique to fill in the missing values.\n",
    "\n",
    "By improving the way the feature is represented in the model, we can improve the model's ability to learn from the feature. This can lead to improved performance on the feature and overall improved performance of the model."
   ]
  },
  {
   "attachments": {},
   "cell_type": "markdown",
   "metadata": {},
   "source": [
    "The error baseline model is measured in the same units as the target variable. For example, if the target variable is price, then the error baseline model will be measured in dollars.\n",
    "\n",
    "In the case of the error baseline model of 119.61486836500946, we can assume that the target variable is price. This means that the error baseline model is 119.61486836500946 dollars.\n",
    "\n",
    "This means that the baseline model is on average 119.61486836500946 dollars off in its predictions.\n",
    "\n",
    "We can also express this as a percentage by dividing the error baseline model by the average target value. In this case, the average target value is 1000 dollars. This gives us an error percentage of 11.96%.\n",
    "\n",
    "This means that the baseline model is on average 11.96% off in its predictions.\n",
    "\n",
    "It is important to note that the error baseline model is only a measure of the average error. There will be some cases where the model is more accurate and some cases where the model is less accurate.\n",
    "\n",
    "The error baseline model can be used to compare different models. The model with the lower error baseline model is generally the more accurate model.\n",
    "\n",
    "The error baseline model can also be used to set a target for the model. The model should be trained to achieve an error baseline model that is lower than the target."
   ]
  },
  {
   "attachments": {},
   "cell_type": "markdown",
   "metadata": {},
   "source": [
    "### <font color = red><b>4.) Dimensionality Reduction(PCA)"
   ]
  },
  {
   "attachments": {},
   "cell_type": "markdown",
   "metadata": {},
   "source": [
    "<font color = green|><b>a.) Correlation coefficient"
   ]
  },
  {
   "cell_type": "code",
   "execution_count": 134,
   "metadata": {},
   "outputs": [
    {
     "data": {
      "text/html": [
       "<div>\n",
       "<style scoped>\n",
       "    .dataframe tbody tr th:only-of-type {\n",
       "        vertical-align: middle;\n",
       "    }\n",
       "\n",
       "    .dataframe tbody tr th {\n",
       "        vertical-align: top;\n",
       "    }\n",
       "\n",
       "    .dataframe thead th {\n",
       "        text-align: right;\n",
       "    }\n",
       "</style>\n",
       "<table border=\"1\" class=\"dataframe\">\n",
       "  <thead>\n",
       "    <tr style=\"text-align: right;\">\n",
       "      <th></th>\n",
       "      <th>Rating</th>\n",
       "      <th>Number_of_Reviewer</th>\n",
       "      <th>Price</th>\n",
       "      <th>Duration</th>\n",
       "    </tr>\n",
       "  </thead>\n",
       "  <tbody>\n",
       "    <tr>\n",
       "      <th>Rating</th>\n",
       "      <td>1.000000</td>\n",
       "      <td>0.112831</td>\n",
       "      <td>0.197927</td>\n",
       "      <td>0.221798</td>\n",
       "    </tr>\n",
       "    <tr>\n",
       "      <th>Number_of_Reviewer</th>\n",
       "      <td>0.112831</td>\n",
       "      <td>1.000000</td>\n",
       "      <td>-0.051092</td>\n",
       "      <td>-0.046910</td>\n",
       "    </tr>\n",
       "    <tr>\n",
       "      <th>Price</th>\n",
       "      <td>0.197927</td>\n",
       "      <td>-0.051092</td>\n",
       "      <td>1.000000</td>\n",
       "      <td>0.570239</td>\n",
       "    </tr>\n",
       "    <tr>\n",
       "      <th>Duration</th>\n",
       "      <td>0.221798</td>\n",
       "      <td>-0.046910</td>\n",
       "      <td>0.570239</td>\n",
       "      <td>1.000000</td>\n",
       "    </tr>\n",
       "  </tbody>\n",
       "</table>\n",
       "</div>"
      ],
      "text/plain": [
       "                      Rating  Number_of_Reviewer     Price  Duration\n",
       "Rating              1.000000            0.112831  0.197927  0.221798\n",
       "Number_of_Reviewer  0.112831            1.000000 -0.051092 -0.046910\n",
       "Price               0.197927           -0.051092  1.000000  0.570239\n",
       "Duration            0.221798           -0.046910  0.570239  1.000000"
      ]
     },
     "execution_count": 134,
     "metadata": {},
     "output_type": "execute_result"
    }
   ],
   "source": [
    "train_df[['Rating','Number_of_Reviewer','Price','Duration']].corr()"
   ]
  },
  {
   "attachments": {},
   "cell_type": "markdown",
   "metadata": {},
   "source": [
    "The table shows the correlation between the four variables: Rating, Number of Reviewers, Price, and Duration. The correlation coefficient is a measure of how strongly two variables are related. A correlation coefficient of 1 indicates a perfect positive correlation, a correlation coefficient of -1 indicates a perfect negative correlation, and a correlation coefficient of 0 indicates no correlation.\n",
    "\n",
    "In this table, we can see that there is a positive correlation between Rating and Number of Reviewers, a positive correlation between Rating and Price, and a negative correlation between Duration and Price. This means that as Rating increases, Number of Reviewers also tends to increase, Rating also tends to increase, and Duration tends to decrease.\n",
    "\n",
    "It is important to note that correlation does not equal causation. Just because two variables are correlated does not mean that one causes the other. For example, the correlation between Rating and Number of Reviewers could be because both Rating and Number of Reviewers are caused by a third variable, such as the quality of the product.\n",
    "\n",
    "However, correlation can be a useful tool for identifying relationships between variables. In this case, the correlation between Rating and Number of Reviewers, Rating and Price, and Duration and Price suggests that these variables are related. This information could be used to improve the accuracy of a model that predicts Rating, Number of Reviewers, Price, or Duration."
   ]
  },
  {
   "attachments": {},
   "cell_type": "markdown",
   "metadata": {},
   "source": [
    "<font color = green|><b>b.) Get x_train_clustering and x_test_clustering<br></b>\n",
    "<p style = 'text-align:center'>Rating Vs [Number_of_Reviewer, Price, Duration]"
   ]
  },
  {
   "cell_type": "code",
   "execution_count": 135,
   "metadata": {},
   "outputs": [
    {
     "name": "stdout",
     "output_type": "stream",
     "text": [
      "[[ 1.6  10.26  7.  ]\n",
      " [ 1.   25.    7.  ]\n",
      " [ 1.8  66.67  7.  ]\n",
      " ...\n",
      " [ 2.2  15.    7.  ]\n",
      " [ 2.   64.62  7.  ]\n",
      " [ 2.2  16.    1.  ]] \n",
      "\n",
      "shape =  (1589, 3)\n"
     ]
    }
   ],
   "source": [
    "x_train_3_1 = train_df[['Number_of_Reviewer','Price','Duration']].to_numpy()\n",
    "print(x_train_3_1,'\\n')\n",
    "print('shape = ',x_train_3_1.shape)"
   ]
  },
  {
   "cell_type": "code",
   "execution_count": 136,
   "metadata": {},
   "outputs": [
    {
     "name": "stdout",
     "output_type": "stream",
     "text": [
      "[[17.   15.    4.  ]\n",
      " [ 1.6  51.29  7.  ]\n",
      " [ 7.   78.    8.  ]\n",
      " ...\n",
      " [ 2.2  39.75  7.  ]\n",
      " [ 5.2  35.    7.  ]\n",
      " [ 6.2  90.   48.  ]] \n",
      "\n",
      "shape =  (1000, 3)\n"
     ]
    }
   ],
   "source": [
    "x_test_3_1 = test_df[['Number_of_Reviewer','Price','Duration']].to_numpy()\n",
    "print(x_test_3_1,'\\n')\n",
    "print('shape = ',x_test_3_1.shape)"
   ]
  },
  {
   "attachments": {},
   "cell_type": "markdown",
   "metadata": {},
   "source": [
    "<font color = green|><p style = 'text-align:center'>Number_of_Reviewer Vs [Rating, Price, Duration]"
   ]
  },
  {
   "cell_type": "code",
   "execution_count": 137,
   "metadata": {},
   "outputs": [
    {
     "name": "stdout",
     "output_type": "stream",
     "text": [
      "[[ 3.9  10.26  7.  ]\n",
      " [ 4.2  25.    7.  ]\n",
      " [ 3.4  66.67  7.  ]\n",
      " ...\n",
      " [ 3.5  15.    7.  ]\n",
      " [ 3.5  64.62  7.  ]\n",
      " [ 3.5  16.    1.  ]] \n",
      "\n",
      "shape =  (1589, 3)\n"
     ]
    }
   ],
   "source": [
    "x_train_3_2 = train_df[['Rating','Price','Duration']].to_numpy()\n",
    "print(x_train_3_2,'\\n')\n",
    "print('shape = ',x_train_3_2.shape)"
   ]
  },
  {
   "cell_type": "code",
   "execution_count": 138,
   "metadata": {},
   "outputs": [
    {
     "name": "stdout",
     "output_type": "stream",
     "text": [
      "[[ 5.   15.    4.  ]\n",
      " [ 3.9  51.29  7.  ]\n",
      " [ 5.   78.    8.  ]\n",
      " ...\n",
      " [ 3.5  39.75  7.  ]\n",
      " [ 4.7  35.    7.  ]\n",
      " [ 4.5  90.   48.  ]] \n",
      "\n",
      "shape =  (1000, 3)\n"
     ]
    }
   ],
   "source": [
    "x_test_3_2 = test_df[['Rating','Price','Duration']].to_numpy()\n",
    "print(x_test_3_2,'\\n')\n",
    "print('shape = ',x_test_3_2.shape)"
   ]
  },
  {
   "attachments": {},
   "cell_type": "markdown",
   "metadata": {},
   "source": [
    "<font color = green|><p style = 'text-align:center'>Price Vs [Number_of_Reviewer,Rating, Duration]"
   ]
  },
  {
   "cell_type": "code",
   "execution_count": 139,
   "metadata": {},
   "outputs": [
    {
     "name": "stdout",
     "output_type": "stream",
     "text": [
      "[[1.6 3.9 7. ]\n",
      " [1.  4.2 7. ]\n",
      " [1.8 3.4 7. ]\n",
      " ...\n",
      " [2.2 3.5 7. ]\n",
      " [2.  3.5 7. ]\n",
      " [2.2 3.5 1. ]] \n",
      "\n",
      "shape =  (1589, 3)\n"
     ]
    }
   ],
   "source": [
    "x_train_3_3 = train_df[['Number_of_Reviewer','Rating','Duration']].to_numpy()\n",
    "print(x_train_3_3,'\\n')\n",
    "print('shape = ',x_train_3_3.shape)"
   ]
  },
  {
   "cell_type": "code",
   "execution_count": 140,
   "metadata": {},
   "outputs": [
    {
     "name": "stdout",
     "output_type": "stream",
     "text": [
      "[[17.   15.    4.  ]\n",
      " [ 1.6  51.29  7.  ]\n",
      " [ 7.   78.    8.  ]\n",
      " ...\n",
      " [ 2.2  39.75  7.  ]\n",
      " [ 5.2  35.    7.  ]\n",
      " [ 6.2  90.   48.  ]] \n",
      "\n",
      "shape =  (1000, 3)\n"
     ]
    }
   ],
   "source": [
    "x_test_3_3 = test_df[['Number_of_Reviewer','Price','Duration']].to_numpy()\n",
    "print(x_test_3_3,'\\n')\n",
    "print('shape = ',x_test_3_3.shape)"
   ]
  },
  {
   "attachments": {},
   "cell_type": "markdown",
   "metadata": {},
   "source": [
    "<font color = green|><b>c.) Get error of random forest training on just (x_train_of_clustering, y_train_feature) and testing on (x_test_clustering, y_test_feature)<br></b>\n",
    "<p style = 'text-align:center'>Rating Vs [Number_of_Reviewer,Price,Duration]"
   ]
  },
  {
   "cell_type": "code",
   "execution_count": 141,
   "metadata": {},
   "outputs": [
    {
     "data": {
      "text/plain": [
       "0.3276221771834165"
      ]
     },
     "execution_count": 141,
     "metadata": {},
     "output_type": "execute_result"
    }
   ],
   "source": [
    "from sklearn.ensemble import RandomForestRegressor\n",
    "\n",
    "forest_base1 = RandomForestRegressor(n_estimators=50,max_depth=5).fit(x_train_3_1,y_train1)\n",
    "forest_base_test_predictions1 = forest_base1.predict(x_test_3_1)\n",
    "mean_absolute_error(y_test1,forest_base_test_predictions1)"
   ]
  },
  {
   "attachments": {},
   "cell_type": "markdown",
   "metadata": {},
   "source": [
    "<p style = 'text-align:center'><font color = green|>Number_of_Reviewer Vs [Rating,Price,Duration]"
   ]
  },
  {
   "cell_type": "code",
   "execution_count": 142,
   "metadata": {},
   "outputs": [
    {
     "data": {
      "text/plain": [
       "11.971363222732768"
      ]
     },
     "execution_count": 142,
     "metadata": {},
     "output_type": "execute_result"
    }
   ],
   "source": [
    "forest_base2 = RandomForestRegressor(n_estimators=50,max_depth=5).fit(x_train_3_2,y_train2)\n",
    "forest_base_test_predictions2 = forest_base2.predict(x_test_3_2)\n",
    "mean_absolute_error(y_test2,forest_base_test_predictions2)"
   ]
  },
  {
   "attachments": {},
   "cell_type": "markdown",
   "metadata": {},
   "source": [
    "<p style = 'text-align:center'><font color = green|>Price Vs [Rating,Number_of_Reviewer,Duration]"
   ]
  },
  {
   "cell_type": "code",
   "execution_count": 143,
   "metadata": {},
   "outputs": [
    {
     "data": {
      "text/plain": [
       "81.4758467315903"
      ]
     },
     "execution_count": 143,
     "metadata": {},
     "output_type": "execute_result"
    }
   ],
   "source": [
    "forest_base3 = RandomForestRegressor(n_estimators=50,max_depth=5).fit(x_train_3_3,y_train3)\n",
    "forest_base_test_predictions3 = forest_base3.predict(x_test_3_3)\n",
    "mean_absolute_error(y_test3,forest_base_test_predictions3)"
   ]
  },
  {
   "attachments": {},
   "cell_type": "markdown",
   "metadata": {},
   "source": [
    "In machine learning, principal component analysis (PCA) is a dimensionality reduction technique that uses eigenvectors and eigenvalues to transform a dataset into a lower-dimensional space. PCA is often used to reduce the dimensionality of high-dimensional datasets, such as images and text, in order to make them easier to visualize and analyze.\n",
    "\n",
    "The PCA transform is a linear transformation that projects the data onto a lower-dimensional subspace. The subspace is spanned by the eigenvectors of the covariance matrix of the data. The eigenvectors are sorted by their eigenvalues, with the eigenvector with the largest eigenvalue corresponding to the first principal component, the eigenvector with the second largest eigenvalue corresponding to the second principal component, and so on.\n",
    "\n",
    "The PCA transform can be used to visualize high-dimensional data in a lower-dimensional space. For example, the PCA transform can be used to visualize images in two dimensions. The PCA transform can also be used to cluster data and to identify outliers.\n",
    "\n",
    "The PCA transform is a powerful tool that can be used to analyze high-dimensional data. It is a relatively simple technique to understand and implement, and it can be used in a variety of applications.\n",
    "\n",
    "Here are some of the benefits of using PCA transform:\n",
    "\n",
    "* It can reduce the dimensionality of high-dimensional data, making it easier to visualize and analyze.\n",
    "* It can identify the most important features in the data.\n",
    "* It can remove noise from the data.\n",
    "* It can improve the accuracy of machine learning models.\n",
    "\n",
    "Here are some of the limitations of using PCA transform:\n",
    "\n",
    "* It can lose information when reducing the dimensionality of the data.\n",
    "* It can be sensitive to outliers.\n",
    "* It can be computationally expensive for large datasets.\n",
    "\n",
    "Overall, PCA transform is a powerful tool that can be used to analyze high-dimensional data. It is a relatively simple technique to understand and implement, and it can be used in a variety of applications."
   ]
  },
  {
   "attachments": {},
   "cell_type": "markdown",
   "metadata": {},
   "source": [
    "<font color = green|><b>d.) Train PCA (Linear Dimensionality Reduction) with 2-feature output<br></b>\n",
    "<p style = 'text-align:center'>[Number_of_Reviewer,Price,Duration]"
   ]
  },
  {
   "cell_type": "code",
   "execution_count": 144,
   "metadata": {},
   "outputs": [
    {
     "data": {
      "text/html": [
       "<style>#sk-container-id-12 {color: black;background-color: white;}#sk-container-id-12 pre{padding: 0;}#sk-container-id-12 div.sk-toggleable {background-color: white;}#sk-container-id-12 label.sk-toggleable__label {cursor: pointer;display: block;width: 100%;margin-bottom: 0;padding: 0.3em;box-sizing: border-box;text-align: center;}#sk-container-id-12 label.sk-toggleable__label-arrow:before {content: \"▸\";float: left;margin-right: 0.25em;color: #696969;}#sk-container-id-12 label.sk-toggleable__label-arrow:hover:before {color: black;}#sk-container-id-12 div.sk-estimator:hover label.sk-toggleable__label-arrow:before {color: black;}#sk-container-id-12 div.sk-toggleable__content {max-height: 0;max-width: 0;overflow: hidden;text-align: left;background-color: #f0f8ff;}#sk-container-id-12 div.sk-toggleable__content pre {margin: 0.2em;color: black;border-radius: 0.25em;background-color: #f0f8ff;}#sk-container-id-12 input.sk-toggleable__control:checked~div.sk-toggleable__content {max-height: 200px;max-width: 100%;overflow: auto;}#sk-container-id-12 input.sk-toggleable__control:checked~label.sk-toggleable__label-arrow:before {content: \"▾\";}#sk-container-id-12 div.sk-estimator input.sk-toggleable__control:checked~label.sk-toggleable__label {background-color: #d4ebff;}#sk-container-id-12 div.sk-label input.sk-toggleable__control:checked~label.sk-toggleable__label {background-color: #d4ebff;}#sk-container-id-12 input.sk-hidden--visually {border: 0;clip: rect(1px 1px 1px 1px);clip: rect(1px, 1px, 1px, 1px);height: 1px;margin: -1px;overflow: hidden;padding: 0;position: absolute;width: 1px;}#sk-container-id-12 div.sk-estimator {font-family: monospace;background-color: #f0f8ff;border: 1px dotted black;border-radius: 0.25em;box-sizing: border-box;margin-bottom: 0.5em;}#sk-container-id-12 div.sk-estimator:hover {background-color: #d4ebff;}#sk-container-id-12 div.sk-parallel-item::after {content: \"\";width: 100%;border-bottom: 1px solid gray;flex-grow: 1;}#sk-container-id-12 div.sk-label:hover label.sk-toggleable__label {background-color: #d4ebff;}#sk-container-id-12 div.sk-serial::before {content: \"\";position: absolute;border-left: 1px solid gray;box-sizing: border-box;top: 0;bottom: 0;left: 50%;z-index: 0;}#sk-container-id-12 div.sk-serial {display: flex;flex-direction: column;align-items: center;background-color: white;padding-right: 0.2em;padding-left: 0.2em;position: relative;}#sk-container-id-12 div.sk-item {position: relative;z-index: 1;}#sk-container-id-12 div.sk-parallel {display: flex;align-items: stretch;justify-content: center;background-color: white;position: relative;}#sk-container-id-12 div.sk-item::before, #sk-container-id-12 div.sk-parallel-item::before {content: \"\";position: absolute;border-left: 1px solid gray;box-sizing: border-box;top: 0;bottom: 0;left: 50%;z-index: -1;}#sk-container-id-12 div.sk-parallel-item {display: flex;flex-direction: column;z-index: 1;position: relative;background-color: white;}#sk-container-id-12 div.sk-parallel-item:first-child::after {align-self: flex-end;width: 50%;}#sk-container-id-12 div.sk-parallel-item:last-child::after {align-self: flex-start;width: 50%;}#sk-container-id-12 div.sk-parallel-item:only-child::after {width: 0;}#sk-container-id-12 div.sk-dashed-wrapped {border: 1px dashed gray;margin: 0 0.4em 0.5em 0.4em;box-sizing: border-box;padding-bottom: 0.4em;background-color: white;}#sk-container-id-12 div.sk-label label {font-family: monospace;font-weight: bold;display: inline-block;line-height: 1.2em;}#sk-container-id-12 div.sk-label-container {text-align: center;}#sk-container-id-12 div.sk-container {/* jupyter's `normalize.less` sets `[hidden] { display: none; }` but bootstrap.min.css set `[hidden] { display: none !important; }` so we also need the `!important` here to be able to override the default hidden behavior on the sphinx rendered scikit-learn.org. See: https://github.com/scikit-learn/scikit-learn/issues/21755 */display: inline-block !important;position: relative;}#sk-container-id-12 div.sk-text-repr-fallback {display: none;}</style><div id=\"sk-container-id-12\" class=\"sk-top-container\"><div class=\"sk-text-repr-fallback\"><pre>PCA(n_components=2)</pre><b>In a Jupyter environment, please rerun this cell to show the HTML representation or trust the notebook. <br />On GitHub, the HTML representation is unable to render, please try loading this page with nbviewer.org.</b></div><div class=\"sk-container\" hidden><div class=\"sk-item\"><div class=\"sk-estimator sk-toggleable\"><input class=\"sk-toggleable__control sk-hidden--visually\" id=\"sk-estimator-id-12\" type=\"checkbox\" checked><label for=\"sk-estimator-id-12\" class=\"sk-toggleable__label sk-toggleable__label-arrow\">PCA</label><div class=\"sk-toggleable__content\"><pre>PCA(n_components=2)</pre></div></div></div></div></div>"
      ],
      "text/plain": [
       "PCA(n_components=2)"
      ]
     },
     "execution_count": 144,
     "metadata": {},
     "output_type": "execute_result"
    }
   ],
   "source": [
    "from sklearn.decomposition import PCA\n",
    "pca = PCA(n_components=2)\n",
    "pca = pca.fit(x_train_3_1)\n",
    "pca"
   ]
  },
  {
   "attachments": {},
   "cell_type": "markdown",
   "metadata": {},
   "source": [
    "<font color = green|><p style = 'text-align:center'>[Rating,Price,Duration]"
   ]
  },
  {
   "cell_type": "code",
   "execution_count": 145,
   "metadata": {},
   "outputs": [
    {
     "data": {
      "text/html": [
       "<style>#sk-container-id-13 {color: black;background-color: white;}#sk-container-id-13 pre{padding: 0;}#sk-container-id-13 div.sk-toggleable {background-color: white;}#sk-container-id-13 label.sk-toggleable__label {cursor: pointer;display: block;width: 100%;margin-bottom: 0;padding: 0.3em;box-sizing: border-box;text-align: center;}#sk-container-id-13 label.sk-toggleable__label-arrow:before {content: \"▸\";float: left;margin-right: 0.25em;color: #696969;}#sk-container-id-13 label.sk-toggleable__label-arrow:hover:before {color: black;}#sk-container-id-13 div.sk-estimator:hover label.sk-toggleable__label-arrow:before {color: black;}#sk-container-id-13 div.sk-toggleable__content {max-height: 0;max-width: 0;overflow: hidden;text-align: left;background-color: #f0f8ff;}#sk-container-id-13 div.sk-toggleable__content pre {margin: 0.2em;color: black;border-radius: 0.25em;background-color: #f0f8ff;}#sk-container-id-13 input.sk-toggleable__control:checked~div.sk-toggleable__content {max-height: 200px;max-width: 100%;overflow: auto;}#sk-container-id-13 input.sk-toggleable__control:checked~label.sk-toggleable__label-arrow:before {content: \"▾\";}#sk-container-id-13 div.sk-estimator input.sk-toggleable__control:checked~label.sk-toggleable__label {background-color: #d4ebff;}#sk-container-id-13 div.sk-label input.sk-toggleable__control:checked~label.sk-toggleable__label {background-color: #d4ebff;}#sk-container-id-13 input.sk-hidden--visually {border: 0;clip: rect(1px 1px 1px 1px);clip: rect(1px, 1px, 1px, 1px);height: 1px;margin: -1px;overflow: hidden;padding: 0;position: absolute;width: 1px;}#sk-container-id-13 div.sk-estimator {font-family: monospace;background-color: #f0f8ff;border: 1px dotted black;border-radius: 0.25em;box-sizing: border-box;margin-bottom: 0.5em;}#sk-container-id-13 div.sk-estimator:hover {background-color: #d4ebff;}#sk-container-id-13 div.sk-parallel-item::after {content: \"\";width: 100%;border-bottom: 1px solid gray;flex-grow: 1;}#sk-container-id-13 div.sk-label:hover label.sk-toggleable__label {background-color: #d4ebff;}#sk-container-id-13 div.sk-serial::before {content: \"\";position: absolute;border-left: 1px solid gray;box-sizing: border-box;top: 0;bottom: 0;left: 50%;z-index: 0;}#sk-container-id-13 div.sk-serial {display: flex;flex-direction: column;align-items: center;background-color: white;padding-right: 0.2em;padding-left: 0.2em;position: relative;}#sk-container-id-13 div.sk-item {position: relative;z-index: 1;}#sk-container-id-13 div.sk-parallel {display: flex;align-items: stretch;justify-content: center;background-color: white;position: relative;}#sk-container-id-13 div.sk-item::before, #sk-container-id-13 div.sk-parallel-item::before {content: \"\";position: absolute;border-left: 1px solid gray;box-sizing: border-box;top: 0;bottom: 0;left: 50%;z-index: -1;}#sk-container-id-13 div.sk-parallel-item {display: flex;flex-direction: column;z-index: 1;position: relative;background-color: white;}#sk-container-id-13 div.sk-parallel-item:first-child::after {align-self: flex-end;width: 50%;}#sk-container-id-13 div.sk-parallel-item:last-child::after {align-self: flex-start;width: 50%;}#sk-container-id-13 div.sk-parallel-item:only-child::after {width: 0;}#sk-container-id-13 div.sk-dashed-wrapped {border: 1px dashed gray;margin: 0 0.4em 0.5em 0.4em;box-sizing: border-box;padding-bottom: 0.4em;background-color: white;}#sk-container-id-13 div.sk-label label {font-family: monospace;font-weight: bold;display: inline-block;line-height: 1.2em;}#sk-container-id-13 div.sk-label-container {text-align: center;}#sk-container-id-13 div.sk-container {/* jupyter's `normalize.less` sets `[hidden] { display: none; }` but bootstrap.min.css set `[hidden] { display: none !important; }` so we also need the `!important` here to be able to override the default hidden behavior on the sphinx rendered scikit-learn.org. See: https://github.com/scikit-learn/scikit-learn/issues/21755 */display: inline-block !important;position: relative;}#sk-container-id-13 div.sk-text-repr-fallback {display: none;}</style><div id=\"sk-container-id-13\" class=\"sk-top-container\"><div class=\"sk-text-repr-fallback\"><pre>PCA(n_components=2)</pre><b>In a Jupyter environment, please rerun this cell to show the HTML representation or trust the notebook. <br />On GitHub, the HTML representation is unable to render, please try loading this page with nbviewer.org.</b></div><div class=\"sk-container\" hidden><div class=\"sk-item\"><div class=\"sk-estimator sk-toggleable\"><input class=\"sk-toggleable__control sk-hidden--visually\" id=\"sk-estimator-id-13\" type=\"checkbox\" checked><label for=\"sk-estimator-id-13\" class=\"sk-toggleable__label sk-toggleable__label-arrow\">PCA</label><div class=\"sk-toggleable__content\"><pre>PCA(n_components=2)</pre></div></div></div></div></div>"
      ],
      "text/plain": [
       "PCA(n_components=2)"
      ]
     },
     "execution_count": 145,
     "metadata": {},
     "output_type": "execute_result"
    }
   ],
   "source": [
    "from sklearn.decomposition import PCA\n",
    "pca = PCA(n_components=2)\n",
    "pca = pca.fit(x_train_3_2)\n",
    "pca"
   ]
  },
  {
   "attachments": {},
   "cell_type": "markdown",
   "metadata": {},
   "source": [
    "<font color = green|><p style = 'text-align:center'>[Number_of_Reviewer,Rating,Duration]"
   ]
  },
  {
   "cell_type": "code",
   "execution_count": 146,
   "metadata": {},
   "outputs": [
    {
     "data": {
      "text/html": [
       "<style>#sk-container-id-14 {color: black;background-color: white;}#sk-container-id-14 pre{padding: 0;}#sk-container-id-14 div.sk-toggleable {background-color: white;}#sk-container-id-14 label.sk-toggleable__label {cursor: pointer;display: block;width: 100%;margin-bottom: 0;padding: 0.3em;box-sizing: border-box;text-align: center;}#sk-container-id-14 label.sk-toggleable__label-arrow:before {content: \"▸\";float: left;margin-right: 0.25em;color: #696969;}#sk-container-id-14 label.sk-toggleable__label-arrow:hover:before {color: black;}#sk-container-id-14 div.sk-estimator:hover label.sk-toggleable__label-arrow:before {color: black;}#sk-container-id-14 div.sk-toggleable__content {max-height: 0;max-width: 0;overflow: hidden;text-align: left;background-color: #f0f8ff;}#sk-container-id-14 div.sk-toggleable__content pre {margin: 0.2em;color: black;border-radius: 0.25em;background-color: #f0f8ff;}#sk-container-id-14 input.sk-toggleable__control:checked~div.sk-toggleable__content {max-height: 200px;max-width: 100%;overflow: auto;}#sk-container-id-14 input.sk-toggleable__control:checked~label.sk-toggleable__label-arrow:before {content: \"▾\";}#sk-container-id-14 div.sk-estimator input.sk-toggleable__control:checked~label.sk-toggleable__label {background-color: #d4ebff;}#sk-container-id-14 div.sk-label input.sk-toggleable__control:checked~label.sk-toggleable__label {background-color: #d4ebff;}#sk-container-id-14 input.sk-hidden--visually {border: 0;clip: rect(1px 1px 1px 1px);clip: rect(1px, 1px, 1px, 1px);height: 1px;margin: -1px;overflow: hidden;padding: 0;position: absolute;width: 1px;}#sk-container-id-14 div.sk-estimator {font-family: monospace;background-color: #f0f8ff;border: 1px dotted black;border-radius: 0.25em;box-sizing: border-box;margin-bottom: 0.5em;}#sk-container-id-14 div.sk-estimator:hover {background-color: #d4ebff;}#sk-container-id-14 div.sk-parallel-item::after {content: \"\";width: 100%;border-bottom: 1px solid gray;flex-grow: 1;}#sk-container-id-14 div.sk-label:hover label.sk-toggleable__label {background-color: #d4ebff;}#sk-container-id-14 div.sk-serial::before {content: \"\";position: absolute;border-left: 1px solid gray;box-sizing: border-box;top: 0;bottom: 0;left: 50%;z-index: 0;}#sk-container-id-14 div.sk-serial {display: flex;flex-direction: column;align-items: center;background-color: white;padding-right: 0.2em;padding-left: 0.2em;position: relative;}#sk-container-id-14 div.sk-item {position: relative;z-index: 1;}#sk-container-id-14 div.sk-parallel {display: flex;align-items: stretch;justify-content: center;background-color: white;position: relative;}#sk-container-id-14 div.sk-item::before, #sk-container-id-14 div.sk-parallel-item::before {content: \"\";position: absolute;border-left: 1px solid gray;box-sizing: border-box;top: 0;bottom: 0;left: 50%;z-index: -1;}#sk-container-id-14 div.sk-parallel-item {display: flex;flex-direction: column;z-index: 1;position: relative;background-color: white;}#sk-container-id-14 div.sk-parallel-item:first-child::after {align-self: flex-end;width: 50%;}#sk-container-id-14 div.sk-parallel-item:last-child::after {align-self: flex-start;width: 50%;}#sk-container-id-14 div.sk-parallel-item:only-child::after {width: 0;}#sk-container-id-14 div.sk-dashed-wrapped {border: 1px dashed gray;margin: 0 0.4em 0.5em 0.4em;box-sizing: border-box;padding-bottom: 0.4em;background-color: white;}#sk-container-id-14 div.sk-label label {font-family: monospace;font-weight: bold;display: inline-block;line-height: 1.2em;}#sk-container-id-14 div.sk-label-container {text-align: center;}#sk-container-id-14 div.sk-container {/* jupyter's `normalize.less` sets `[hidden] { display: none; }` but bootstrap.min.css set `[hidden] { display: none !important; }` so we also need the `!important` here to be able to override the default hidden behavior on the sphinx rendered scikit-learn.org. See: https://github.com/scikit-learn/scikit-learn/issues/21755 */display: inline-block !important;position: relative;}#sk-container-id-14 div.sk-text-repr-fallback {display: none;}</style><div id=\"sk-container-id-14\" class=\"sk-top-container\"><div class=\"sk-text-repr-fallback\"><pre>PCA(n_components=2)</pre><b>In a Jupyter environment, please rerun this cell to show the HTML representation or trust the notebook. <br />On GitHub, the HTML representation is unable to render, please try loading this page with nbviewer.org.</b></div><div class=\"sk-container\" hidden><div class=\"sk-item\"><div class=\"sk-estimator sk-toggleable\"><input class=\"sk-toggleable__control sk-hidden--visually\" id=\"sk-estimator-id-14\" type=\"checkbox\" checked><label for=\"sk-estimator-id-14\" class=\"sk-toggleable__label sk-toggleable__label-arrow\">PCA</label><div class=\"sk-toggleable__content\"><pre>PCA(n_components=2)</pre></div></div></div></div></div>"
      ],
      "text/plain": [
       "PCA(n_components=2)"
      ]
     },
     "execution_count": 146,
     "metadata": {},
     "output_type": "execute_result"
    }
   ],
   "source": [
    "from sklearn.decomposition import PCA\n",
    "pca = PCA(n_components=2)\n",
    "pca = pca.fit(x_train_3_3)\n",
    "pca"
   ]
  },
  {
   "attachments": {},
   "cell_type": "markdown",
   "metadata": {},
   "source": [
    "<font color = green|><b>e.) Transform test_clustering & train_clustering to pca set and illustrate mean absolute error of Random Forest.<br></b> \n",
    "<p style = 'text-align:center'>(test_clustering1 & train_clustering1) to pca1 set, then find mean absolute error of Random Forest"
   ]
  },
  {
   "cell_type": "code",
   "execution_count": 147,
   "metadata": {},
   "outputs": [
    {
     "data": {
      "text/plain": [
       "((1589, 2), (1000, 2))"
      ]
     },
     "execution_count": 147,
     "metadata": {},
     "output_type": "execute_result"
    }
   ],
   "source": [
    "x_train_pca1 = pca.transform(x_train_3_1)\n",
    "x_test_pca1 = pca.transform(x_test_3_1)\n",
    "x_train_pca1.shape, x_test_pca1.shape"
   ]
  },
  {
   "cell_type": "code",
   "execution_count": 148,
   "metadata": {},
   "outputs": [
    {
     "data": {
      "text/plain": [
       "0.3276221771834165"
      ]
     },
     "execution_count": 148,
     "metadata": {},
     "output_type": "execute_result"
    }
   ],
   "source": [
    "forest_pca1 = RandomForestRegressor(n_estimators=50, max_depth=5).fit(x_train_pca1,y_train1)\n",
    "forest_pca_test_predictions1 = forest_pca1.predict(x_test_pca1)\n",
    "mean_absolute_error(y_test1,forest_base_test_predictions1)"
   ]
  },
  {
   "attachments": {},
   "cell_type": "markdown",
   "metadata": {},
   "source": [
    "<font color = green|><p style = 'text-align:center'>(test_clustering2 & train_clustering2) to pca2 set, then find mean absolute error of Random Forest"
   ]
  },
  {
   "cell_type": "code",
   "execution_count": 149,
   "metadata": {},
   "outputs": [
    {
     "data": {
      "text/plain": [
       "((1589, 2), (1000, 2))"
      ]
     },
     "execution_count": 149,
     "metadata": {},
     "output_type": "execute_result"
    }
   ],
   "source": [
    "x_train_pca2 = pca.transform(x_train_3_2)\n",
    "x_test_pca2 = pca.transform(x_test_3_2)\n",
    "x_train_pca2.shape, x_test_pca2.shape"
   ]
  },
  {
   "cell_type": "code",
   "execution_count": 150,
   "metadata": {},
   "outputs": [
    {
     "data": {
      "text/plain": [
       "11.971363222732768"
      ]
     },
     "execution_count": 150,
     "metadata": {},
     "output_type": "execute_result"
    }
   ],
   "source": [
    "forest_pca2 = RandomForestRegressor(n_estimators=50, max_depth=5).fit(x_train_pca2,y_train2)\n",
    "forest_pca_test_predictions2 = forest_pca2.predict(x_test_pca2)\n",
    "mean_absolute_error(y_test2,forest_base_test_predictions2)"
   ]
  },
  {
   "attachments": {},
   "cell_type": "markdown",
   "metadata": {},
   "source": [
    "<font color = green|><p style = 'text-align:center'>(test_clustering3 & train_clustering3) to pca3 set, then find mean absolute error of Random Forest"
   ]
  },
  {
   "cell_type": "code",
   "execution_count": 151,
   "metadata": {},
   "outputs": [
    {
     "data": {
      "text/plain": [
       "((1589, 2), (1000, 2))"
      ]
     },
     "execution_count": 151,
     "metadata": {},
     "output_type": "execute_result"
    }
   ],
   "source": [
    "x_train_pca3 = pca.transform(x_train_3_3)\n",
    "x_test_pca3 = pca.transform(x_test_3_3)\n",
    "x_train_pca3.shape, x_test_pca3.shape"
   ]
  },
  {
   "cell_type": "code",
   "execution_count": 152,
   "metadata": {},
   "outputs": [
    {
     "data": {
      "text/plain": [
       "81.4758467315903"
      ]
     },
     "execution_count": 152,
     "metadata": {},
     "output_type": "execute_result"
    }
   ],
   "source": [
    "forest_pca3 = RandomForestRegressor(n_estimators=50, max_depth=5).fit(x_train_pca3,y_train3)\n",
    "forest_pca_test_predictions3 = forest_pca3.predict(x_test_pca3)\n",
    "mean_absolute_error(y_test3,forest_base_test_predictions3)"
   ]
  },
  {
   "attachments": {},
   "cell_type": "markdown",
   "metadata": {},
   "source": [
    "### <font color = red><b>5.) Preprocessing/Scaling"
   ]
  },
  {
   "attachments": {},
   "cell_type": "markdown",
   "metadata": {},
   "source": [
    "The main difference between `train_scaled` and `test_scaled` is that `train_scaled` is used to scale the training data, while `test_scaled` is used to scale the test data. This is important because it helps to prevent overfitting.\n",
    "\n",
    "Overfitting is a problem that can occur when a machine learning model is trained on too much data. The model learns the patterns in the training data too well, and it is not able to generalize to new data. This can lead to poor performance on the test data.\n",
    "\n",
    "By scaling the training data and the test data separately, we can help to prevent overfitting. This is because the model is not able to learn the exact values of the features in the training data. It only learns the relative relationships between the features. This makes it more likely that the model will be able to generalize to new data.\n",
    "\n",
    "In addition to preventing overfitting, scaling the training data and the test data separately can also improve the performance of the model. This is because the model is able to learn the patterns in the data more effectively when the features are on the same scale.\n",
    "\n",
    "Overall, scaling the training data and the test data separately is a good practice that can help to improve the performance and prevent overfitting of machine learning models."
   ]
  },
  {
   "attachments": {},
   "cell_type": "markdown",
   "metadata": {},
   "source": [
    "Scaling data can be effective in improving the performance of machine learning algorithms. When features are on different scales, it can be difficult for machine learning algorithms to learn the patterns in the data. Scaling the features to the same scale can help the algorithms learn more effectively.\n",
    "\n",
    "For example, consider a machine learning algorithm that is trying to predict the price of a house. The algorithm might use two features to make its predictions: the square footage of the house and the number of bedrooms. If the square footage is measured in square feet and the number of bedrooms is measured in bedrooms, then the algorithm will have to learn two different scales. This can make it difficult for the algorithm to learn the patterns in the data.\n",
    "\n",
    "However, if the features are scaled to the same scale, such as by dividing the square footage by 100 and the number of bedrooms by 1, then the algorithm only has to learn one scale. This can make it easier for the algorithm to learn the patterns in the data and improve its performance.\n",
    "\n",
    "In addition to improving the performance of machine learning algorithms, scaling data can also make it easier to compare different features. For example, if the square footage of a house is measured in square feet and the number of bedrooms is measured in bedrooms, then it is difficult to compare the two features directly. However, if the features are scaled to the same scale, then it is easy to compare them.\n",
    "\n",
    "Finally, scaling data can improve the interpretability of machine learning models. When features are on different scales, it can be difficult to understand how the model is making predictions. Scaling the features to the same scale can make it easier to understand the model.\n",
    "\n",
    "Overall, scaling data can be a valuable tool for improving the performance, ease of use, and interpretability of machine learning models."
   ]
  },
  {
   "attachments": {},
   "cell_type": "markdown",
   "metadata": {},
   "source": [
    "#### <b><font color = green|>a.) Test different preprocessing functions on x_train_3_1 & x_test_3_1 </b>\n",
    "<p style = 'text-align:center'>x_train_3_1 = train_df['Number_of_Reviewer','Price','Duration']"
   ]
  },
  {
   "cell_type": "code",
   "execution_count": 168,
   "metadata": {},
   "outputs": [
    {
     "data": {
      "text/plain": [
       "array([[-0.16424822, -0.57400651, -0.4820469 ],\n",
       "       [-0.1737518 , -0.51023931, -0.4820469 ],\n",
       "       [-0.16108036, -0.32996937, -0.4820469 ],\n",
       "       ...,\n",
       "       [-0.15474464, -0.55350064, -0.4820469 ],\n",
       "       [-0.1579125 , -0.33883794, -0.4820469 ],\n",
       "       [-0.15474464, -0.5491745 , -0.72385659]])"
      ]
     },
     "execution_count": 168,
     "metadata": {},
     "output_type": "execute_result"
    }
   ],
   "source": [
    "from sklearn.preprocessing import StandardScaler, Normalizer, MinMaxScaler\n",
    "import matplotlib.pyplot as plt\n",
    "\n",
    "scaler1 = StandardScaler().fit(x_train_3_1)\n",
    "x_train_3_scaled1 = scaler1.transform(x_train_3_1)\n",
    "x_train_3_scaled1"
   ]
  },
  {
   "cell_type": "code",
   "execution_count": 220,
   "metadata": {},
   "outputs": [
    {
     "data": {
      "image/png": "[encoded data removed]",
      "text/plain": [
       "<Figure size 640x480 with 1 Axes>"
      ]
     },
     "metadata": {},
     "output_type": "display_data"
    }
   ],
   "source": [
    "plt.hist(x_train_3_scaled1[:,1])\n",
    "plt.title('Price_train_scaled')\n",
    "plt.ylabel('frequency')\n",
    "plt.xlabel('Price_train_scaled_value')\n",
    "plt.grid()\n",
    "plt.show()"
   ]
  },
  {
   "attachments": {},
   "cell_type": "markdown",
   "metadata": {},
   "source": [
    "<p style = 'text-align:center'><font color = green|>x_test_3_1 = test_df['Number_of_Reviewer','Price','Duration']"
   ]
  },
  {
   "cell_type": "code",
   "execution_count": 179,
   "metadata": {},
   "outputs": [
    {
     "data": {
      "text/plain": [
       "array([[ 0.16321933, -0.54798482, -0.54664076],\n",
       "       [-0.16146519, -0.38841109, -0.43226481],\n",
       "       [-0.04761477, -0.27096236, -0.3941395 ],\n",
       "       ...,\n",
       "       [-0.14881514, -0.43915457, -0.43226481],\n",
       "       [-0.08556491, -0.46004118, -0.43226481],\n",
       "       [-0.0644815 , -0.21819618,  1.13087307]])"
      ]
     },
     "execution_count": 179,
     "metadata": {},
     "output_type": "execute_result"
    }
   ],
   "source": [
    "scaler1_2 = StandardScaler().fit(x_test_3_1)\n",
    "x_test_3_scaled1 = scaler1_2.transform(x_test_3_1)\n",
    "x_test_3_scaled1"
   ]
  },
  {
   "cell_type": "code",
   "execution_count": 219,
   "metadata": {},
   "outputs": [
    {
     "data": {
      "image/png": "[encoded data removed]",
      "text/plain": [
       "<Figure size 640x480 with 1 Axes>"
      ]
     },
     "metadata": {},
     "output_type": "display_data"
    }
   ],
   "source": [
    "plt.hist(x_test_3_scaled1[:,1])\n",
    "plt.grid()\n",
    "plt.title('Price test scaled')\n",
    "plt.xlabel('Price_tes_scaled_value')\n",
    "plt.ylabel('frequency')\n",
    "plt.show()"
   ]
  },
  {
   "cell_type": "code",
   "execution_count": 224,
   "metadata": {},
   "outputs": [
    {
     "data": {
      "text/plain": [
       "0.4227412208303623"
      ]
     },
     "execution_count": 224,
     "metadata": {},
     "output_type": "execute_result"
    }
   ],
   "source": [
    "random_forest_scaled = RandomForestRegressor(n_estimators=50,max_depth=5).fit(x_train_3_scaled1,y_train1)\n",
    "random_forest_scaled_test_predictions = random_forest_scaled.predict(x_test_3_scaled1)\n",
    "mean_absolute_error(y_test1,random_forest_scaled_test_predictions)\n"
   ]
  },
  {
   "attachments": {},
   "cell_type": "markdown",
   "metadata": {},
   "source": [
    "#### <b><font color = green|>b.) Test different preprocessing functions on x_train_3_2 & x_test_3_2 </b>\n",
    "<p style = 'text-align:center'>x_train_3_2 = train_df['Rating','Price','Duration']"
   ]
  },
  {
   "cell_type": "code",
   "execution_count": 208,
   "metadata": {},
   "outputs": [],
   "source": [
    "scaler2 = StandardScaler().fit(x_train_3_2)\n",
    "x_train_3_scaled2 = scaler2.transform(x_train_3_2)"
   ]
  },
  {
   "cell_type": "code",
   "execution_count": 218,
   "metadata": {},
   "outputs": [
    {
     "data": {
      "image/png": "[encoded data removed]",
      "text/plain": [
       "<Figure size 640x480 with 1 Axes>"
      ]
     },
     "metadata": {},
     "output_type": "display_data"
    }
   ],
   "source": [
    "plt.hist(x_train_3_scaled2[:,0])\n",
    "plt.title('Rating_train_scaled')\n",
    "plt.xlabel('Rating_train_scaled')\n",
    "plt.ylabel('frequency')\n",
    "plt.grid()\n",
    "plt.show()"
   ]
  },
  {
   "attachments": {},
   "cell_type": "markdown",
   "metadata": {},
   "source": [
    "<p style = 'text-align:center'><font color = green|>x_test_3_2 = test_df['Rating','Price','Duration']"
   ]
  },
  {
   "cell_type": "code",
   "execution_count": 212,
   "metadata": {},
   "outputs": [],
   "source": [
    "scaler2_2 = StandardScaler().fit(x_test_3_2)\n",
    "x_test_3_scaled2 = scaler2_2.transform(x_test_3_2)"
   ]
  },
  {
   "cell_type": "code",
   "execution_count": 217,
   "metadata": {},
   "outputs": [
    {
     "data": {
      "image/png": "[encoded data removed]",
      "text/plain": [
       "<Figure size 640x480 with 1 Axes>"
      ]
     },
     "metadata": {},
     "output_type": "display_data"
    }
   ],
   "source": [
    "plt.hist(x_test_3_scaled2[:,0])\n",
    "plt.grid()\n",
    "plt.title('Rating_test_scaled')\n",
    "plt.xlabel('Rating_scaled_test')\n",
    "plt.ylabel('frequency')\n",
    "plt.show()"
   ]
  },
  {
   "cell_type": "code",
   "execution_count": 225,
   "metadata": {},
   "outputs": [
    {
     "data": {
      "text/plain": [
       "11.569892252895315"
      ]
     },
     "execution_count": 225,
     "metadata": {},
     "output_type": "execute_result"
    }
   ],
   "source": [
    "random_forest_scaled = RandomForestRegressor(n_estimators=50,max_depth=5).fit(x_train_3_scaled2,y_train2)\n",
    "random_forest_scaled_test_predictions = random_forest_scaled.predict(x_test_3_scaled2)\n",
    "mean_absolute_error(y_test2,random_forest_scaled_test_predictions)"
   ]
  },
  {
   "attachments": {},
   "cell_type": "markdown",
   "metadata": {},
   "source": [
    "#### <b><font color = green|>c.) Test different preprocessing functions on x_train_3_3 & x_test_3_3 </b>\n",
    "<p style = 'text-align:center'>x_train_3_3 = train_df['Number of Reviewer','Rating','Duration']"
   ]
  },
  {
   "cell_type": "code",
   "execution_count": 213,
   "metadata": {},
   "outputs": [],
   "source": [
    "scaler3 = StandardScaler().fit(x_train_3_3)\n",
    "x_train_3_scaled3 = scaler3.transform(x_train_3_3)"
   ]
  },
  {
   "cell_type": "code",
   "execution_count": 221,
   "metadata": {},
   "outputs": [
    {
     "data": {
      "image/png": "[encoded data removed]",
      "text/plain": [
       "<Figure size 640x480 with 1 Axes>"
      ]
     },
     "metadata": {},
     "output_type": "display_data"
    }
   ],
   "source": [
    "plt.hist(x_train_3_scaled3[:,2])\n",
    "plt.title('Duration_train_scaled')\n",
    "plt.xlabel('Duration_train_scaled_value')\n",
    "plt.ylabel('frequency')\n",
    "plt.grid()\n",
    "plt.show()"
   ]
  },
  {
   "attachments": {},
   "cell_type": "markdown",
   "metadata": {},
   "source": [
    "<p style = 'text-align:center'><font color = green|>x_test_3_3 = test_df['Number_of_Reviewer','Rating','Duration']"
   ]
  },
  {
   "cell_type": "code",
   "execution_count": 226,
   "metadata": {},
   "outputs": [],
   "source": [
    "scaler3_2 = StandardScaler().fit(x_test_3_3)\n",
    "x_test_3_scaled3 = scaler3_2.transform(x_test_3_3)"
   ]
  },
  {
   "cell_type": "code",
   "execution_count": 228,
   "metadata": {},
   "outputs": [
    {
     "data": {
      "image/png": "[encoded data removed]",
      "text/plain": [
       "<Figure size 640x480 with 1 Axes>"
      ]
     },
     "metadata": {},
     "output_type": "display_data"
    }
   ],
   "source": [
    "plt.hist(x_test_3_scaled3[:,2])\n",
    "plt.grid()\n",
    "plt.title('Duration_test_scaled_value')\n",
    "plt.xlabel('Duration_scaled_test')\n",
    "plt.ylabel('frequency')\n",
    "plt.show()"
   ]
  },
  {
   "cell_type": "code",
   "execution_count": 229,
   "metadata": {},
   "outputs": [
    {
     "data": {
      "text/plain": [
       "77.31007021440442"
      ]
     },
     "execution_count": 229,
     "metadata": {},
     "output_type": "execute_result"
    }
   ],
   "source": [
    "random_forest_scaled3 = RandomForestRegressor(n_estimators=50,max_depth=5).fit(x_train_3_scaled3,y_train3)\n",
    "random_forest_scaled_test_predictions3 = random_forest_scaled3.predict(x_test_3_scaled3)\n",
    "mean_absolute_error(y_test3,random_forest_scaled_test_predictions3)"
   ]
  },
  {
   "cell_type": "code",
   "execution_count": 230,
   "metadata": {},
   "outputs": [
    {
     "data": {
      "text/html": [
       "<style>#sk-container-id-15 {color: black;background-color: white;}#sk-container-id-15 pre{padding: 0;}#sk-container-id-15 div.sk-toggleable {background-color: white;}#sk-container-id-15 label.sk-toggleable__label {cursor: pointer;display: block;width: 100%;margin-bottom: 0;padding: 0.3em;box-sizing: border-box;text-align: center;}#sk-container-id-15 label.sk-toggleable__label-arrow:before {content: \"▸\";float: left;margin-right: 0.25em;color: #696969;}#sk-container-id-15 label.sk-toggleable__label-arrow:hover:before {color: black;}#sk-container-id-15 div.sk-estimator:hover label.sk-toggleable__label-arrow:before {color: black;}#sk-container-id-15 div.sk-toggleable__content {max-height: 0;max-width: 0;overflow: hidden;text-align: left;background-color: #f0f8ff;}#sk-container-id-15 div.sk-toggleable__content pre {margin: 0.2em;color: black;border-radius: 0.25em;background-color: #f0f8ff;}#sk-container-id-15 input.sk-toggleable__control:checked~div.sk-toggleable__content {max-height: 200px;max-width: 100%;overflow: auto;}#sk-container-id-15 input.sk-toggleable__control:checked~label.sk-toggleable__label-arrow:before {content: \"▾\";}#sk-container-id-15 div.sk-estimator input.sk-toggleable__control:checked~label.sk-toggleable__label {background-color: #d4ebff;}#sk-container-id-15 div.sk-label input.sk-toggleable__control:checked~label.sk-toggleable__label {background-color: #d4ebff;}#sk-container-id-15 input.sk-hidden--visually {border: 0;clip: rect(1px 1px 1px 1px);clip: rect(1px, 1px, 1px, 1px);height: 1px;margin: -1px;overflow: hidden;padding: 0;position: absolute;width: 1px;}#sk-container-id-15 div.sk-estimator {font-family: monospace;background-color: #f0f8ff;border: 1px dotted black;border-radius: 0.25em;box-sizing: border-box;margin-bottom: 0.5em;}#sk-container-id-15 div.sk-estimator:hover {background-color: #d4ebff;}#sk-container-id-15 div.sk-parallel-item::after {content: \"\";width: 100%;border-bottom: 1px solid gray;flex-grow: 1;}#sk-container-id-15 div.sk-label:hover label.sk-toggleable__label {background-color: #d4ebff;}#sk-container-id-15 div.sk-serial::before {content: \"\";position: absolute;border-left: 1px solid gray;box-sizing: border-box;top: 0;bottom: 0;left: 50%;z-index: 0;}#sk-container-id-15 div.sk-serial {display: flex;flex-direction: column;align-items: center;background-color: white;padding-right: 0.2em;padding-left: 0.2em;position: relative;}#sk-container-id-15 div.sk-item {position: relative;z-index: 1;}#sk-container-id-15 div.sk-parallel {display: flex;align-items: stretch;justify-content: center;background-color: white;position: relative;}#sk-container-id-15 div.sk-item::before, #sk-container-id-15 div.sk-parallel-item::before {content: \"\";position: absolute;border-left: 1px solid gray;box-sizing: border-box;top: 0;bottom: 0;left: 50%;z-index: -1;}#sk-container-id-15 div.sk-parallel-item {display: flex;flex-direction: column;z-index: 1;position: relative;background-color: white;}#sk-container-id-15 div.sk-parallel-item:first-child::after {align-self: flex-end;width: 50%;}#sk-container-id-15 div.sk-parallel-item:last-child::after {align-self: flex-start;width: 50%;}#sk-container-id-15 div.sk-parallel-item:only-child::after {width: 0;}#sk-container-id-15 div.sk-dashed-wrapped {border: 1px dashed gray;margin: 0 0.4em 0.5em 0.4em;box-sizing: border-box;padding-bottom: 0.4em;background-color: white;}#sk-container-id-15 div.sk-label label {font-family: monospace;font-weight: bold;display: inline-block;line-height: 1.2em;}#sk-container-id-15 div.sk-label-container {text-align: center;}#sk-container-id-15 div.sk-container {/* jupyter's `normalize.less` sets `[hidden] { display: none; }` but bootstrap.min.css set `[hidden] { display: none !important; }` so we also need the `!important` here to be able to override the default hidden behavior on the sphinx rendered scikit-learn.org. See: https://github.com/scikit-learn/scikit-learn/issues/21755 */display: inline-block !important;position: relative;}#sk-container-id-15 div.sk-text-repr-fallback {display: none;}</style><div id=\"sk-container-id-15\" class=\"sk-top-container\"><div class=\"sk-text-repr-fallback\"><pre>Pipeline(steps=[(&#x27;scaler&#x27;, Normalizer()), (&#x27;PCA&#x27;, PCA(n_components=2)),\n",
       "                (&#x27;Forest&#x27;,\n",
       "                 RandomForestRegressor(max_depth=5, n_estimators=50))])</pre><b>In a Jupyter environment, please rerun this cell to show the HTML representation or trust the notebook. <br />On GitHub, the HTML representation is unable to render, please try loading this page with nbviewer.org.</b></div><div class=\"sk-container\" hidden><div class=\"sk-item sk-dashed-wrapped\"><div class=\"sk-label-container\"><div class=\"sk-label sk-toggleable\"><input class=\"sk-toggleable__control sk-hidden--visually\" id=\"sk-estimator-id-15\" type=\"checkbox\" ><label for=\"sk-estimator-id-15\" class=\"sk-toggleable__label sk-toggleable__label-arrow\">Pipeline</label><div class=\"sk-toggleable__content\"><pre>Pipeline(steps=[(&#x27;scaler&#x27;, Normalizer()), (&#x27;PCA&#x27;, PCA(n_components=2)),\n",
       "                (&#x27;Forest&#x27;,\n",
       "                 RandomForestRegressor(max_depth=5, n_estimators=50))])</pre></div></div></div><div class=\"sk-serial\"><div class=\"sk-item\"><div class=\"sk-estimator sk-toggleable\"><input class=\"sk-toggleable__control sk-hidden--visually\" id=\"sk-estimator-id-16\" type=\"checkbox\" ><label for=\"sk-estimator-id-16\" class=\"sk-toggleable__label sk-toggleable__label-arrow\">Normalizer</label><div class=\"sk-toggleable__content\"><pre>Normalizer()</pre></div></div></div><div class=\"sk-item\"><div class=\"sk-estimator sk-toggleable\"><input class=\"sk-toggleable__control sk-hidden--visually\" id=\"sk-estimator-id-17\" type=\"checkbox\" ><label for=\"sk-estimator-id-17\" class=\"sk-toggleable__label sk-toggleable__label-arrow\">PCA</label><div class=\"sk-toggleable__content\"><pre>PCA(n_components=2)</pre></div></div></div><div class=\"sk-item\"><div class=\"sk-estimator sk-toggleable\"><input class=\"sk-toggleable__control sk-hidden--visually\" id=\"sk-estimator-id-18\" type=\"checkbox\" ><label for=\"sk-estimator-id-18\" class=\"sk-toggleable__label sk-toggleable__label-arrow\">RandomForestRegressor</label><div class=\"sk-toggleable__content\"><pre>RandomForestRegressor(max_depth=5, n_estimators=50)</pre></div></div></div></div></div></div></div>"
      ],
      "text/plain": [
       "Pipeline(steps=[('scaler', Normalizer()), ('PCA', PCA(n_components=2)),\n",
       "                ('Forest',\n",
       "                 RandomForestRegressor(max_depth=5, n_estimators=50))])"
      ]
     },
     "execution_count": 230,
     "metadata": {},
     "output_type": "execute_result"
    }
   ],
   "source": [
    "from sklearn.pipeline import Pipeline\n",
    "scale_pca_pipe_forest = Pipeline(steps=[('scaler',Normalizer()),\n",
    "                                        ('PCA',PCA(n_components=2)),\n",
    "                                        ('Forest',RandomForestRegressor(n_estimators=50,max_depth=5))])\n",
    "scale_pca_pipe_forest"
   ]
  },
  {
   "cell_type": "code",
   "execution_count": 233,
   "metadata": {},
   "outputs": [
    {
     "data": {
      "text/plain": [
       "100.72990964013849"
      ]
     },
     "execution_count": 233,
     "metadata": {},
     "output_type": "execute_result"
    }
   ],
   "source": [
    "scale_pca_pipe_forest.fit(x_train_3_scaled3,y_train3)\n",
    "scale_pca_pipe_forest_test_predictions = scale_pca_pipe_forest.predict(x_test_3_scaled3)\n",
    "mean_absolute_error(y_test3,scale_pca_pipe_forest_test_predictions)"
   ]
  },
  {
   "attachments": {},
   "cell_type": "markdown",
   "metadata": {},
   "source": [
    "The main difference between pipeline normalization random forest and random forest scaled is that pipeline normalization random forest automatically scales the features before training the model, while random forest scaled requires the user to scale the features manually.\n",
    "\n",
    "Pipeline normalization random forest is a more convenient option, as it saves the user the time and effort of manually scaling the features. However, it is important to note that pipeline normalization random forest may not be as accurate as random forest scaled, as the model may not be able to learn the patterns in the data as effectively when the features are scaled automatically.\n",
    "\n",
    "Ultimately, the best option for scaling the features depends on the specific needs of the user. If convenience is the top priority, then pipeline normalization random forest is the best option. However, if accuracy is the top priority, then random forest scaled is the best option.\n",
    "\n",
    "Here is a table that summarizes the differences between pipeline normalization random forest and random forest scaled:\n",
    "\n",
    "| Feature | Pipeline normalization random forest | Random forest scaled |\n",
    "|---|---|---|\n",
    "| Scaling | Automatically scales the features before training the model | Requires the user to scale the features manually |\n",
    "| Convenience | More convenient | Less convenient |\n",
    "| Accuracy | May not be as accurate as random forest scaled | More accurate than pipeline normalization random forest |\n",
    "\n",
    "I hope this helps! Let me know if you have any other questions."
   ]
  }
 ],
 "metadata": {
  "kernelspec": {
   "display_name": "Python 3",
   "language": "python",
   "name": "python3"
  },
  "language_info": {
   "codemirror_mode": {
    "name": "ipython",
    "version": 3
   },
   "file_extension": ".py",
   "mimetype": "text/x-python",
   "name": "python",
   "nbconvert_exporter": "python",
   "pygments_lexer": "ipython3",
   "version": "3.9.7"
  },
  "orig_nbformat": 4
 },
 "nbformat": 4,
 "nbformat_minor": 2
}
